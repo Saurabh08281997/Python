1) Python simple iterative solution (Kadane's algorithm)
                                     
class Solution:
    def maxSubArray(self, nums: List[int]) -> int:
        
        max_sub = nums[0]
        current_sum = 0
        
        for n in nums:
            if current_sum < 0:
                current_sum = 0
            current_sum += n
            
            max_sub = max(max_sub, current_sum)
        
        return max_sub
        
Time complexity: O(N)
Space complexity: O(1)

class Solution:
    def maxSubArray(self, nums: List[int]) -> int:
        if max(nums) <= 0:
            return max(nums)
        maxsum = csum = 0
        for i in nums:
            if csum < 0:
                csum = 0
            csum += i
            if csum > maxsum:
                maxsum = csum
        return maxsum

Solution using dp in python

class Solution:
  def maxSubArray(self, nums: List[int]) -> int:
    dp = [0 for i in range(len(nums))]
    dp[0] = nums[0]
    for i in range(1, len(nums)):
      dp[i] = max(dp[i - 1] + nums[i], nums[i])
    return max(dp)
