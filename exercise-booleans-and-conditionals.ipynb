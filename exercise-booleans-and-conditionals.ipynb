{
 "cells": [
  {
   "cell_type": "markdown",
   "id": "d46bf836",
   "metadata": {
    "papermill": {
     "duration": 0.036525,
     "end_time": "2022-04-24T04:10:14.911007",
     "exception": false,
     "start_time": "2022-04-24T04:10:14.874482",
     "status": "completed"
    },
    "tags": []
   },
   "source": [
    "**This notebook is an exercise in the [Python](https://www.kaggle.com/learn/python) course.  You can reference the tutorial at [this link](https://www.kaggle.com/colinmorris/booleans-and-conditionals).**\n",
    "\n",
    "---\n"
   ]
  },
  {
   "cell_type": "markdown",
   "id": "6827a90c",
   "metadata": {
    "papermill": {
     "duration": 0.036546,
     "end_time": "2022-04-24T04:10:14.983370",
     "exception": false,
     "start_time": "2022-04-24T04:10:14.946824",
     "status": "completed"
    },
    "tags": []
   },
   "source": [
    "In this exercise, you'll put to work what you have learned about booleans and conditionals.\n",
    "\n",
    "To get started, **run the setup code below** before writing your own code (and if you leave this notebook and come back later, don't forget to run the setup code again)."
   ]
  },
  {
   "cell_type": "code",
   "execution_count": 1,
   "id": "5c3aaf97",
   "metadata": {
    "execution": {
     "iopub.execute_input": "2022-04-24T04:10:15.057577Z",
     "iopub.status.busy": "2022-04-24T04:10:15.057119Z",
     "iopub.status.idle": "2022-04-24T04:10:15.110936Z",
     "shell.execute_reply": "2022-04-24T04:10:15.109773Z"
    },
    "papermill": {
     "duration": 0.093508,
     "end_time": "2022-04-24T04:10:15.114284",
     "exception": false,
     "start_time": "2022-04-24T04:10:15.020776",
     "status": "completed"
    },
    "tags": []
   },
   "outputs": [
    {
     "name": "stdout",
     "output_type": "stream",
     "text": [
      "Setup complete.\n"
     ]
    }
   ],
   "source": [
    "from learntools.core import binder; binder.bind(globals())\n",
    "from learntools.python.ex3 import *\n",
    "print('Setup complete.')"
   ]
  },
  {
   "cell_type": "markdown",
   "id": "f191385c",
   "metadata": {
    "papermill": {
     "duration": 0.035597,
     "end_time": "2022-04-24T04:10:15.186915",
     "exception": false,
     "start_time": "2022-04-24T04:10:15.151318",
     "status": "completed"
    },
    "tags": []
   },
   "source": [
    "# 1.\n",
    "\n",
    "Many programming languages have [`sign`](https://en.wikipedia.org/wiki/Sign_function) available as a built-in function. Python doesn't, but we can define our own!\n",
    "\n",
    "In the cell below, define a function called `sign` which takes a numerical argument and returns -1 if it's negative, 1 if it's positive, and 0 if it's 0."
   ]
  },
  {
   "cell_type": "code",
   "execution_count": 2,
   "id": "f61e3092",
   "metadata": {
    "execution": {
     "iopub.execute_input": "2022-04-24T04:10:15.261898Z",
     "iopub.status.busy": "2022-04-24T04:10:15.261609Z",
     "iopub.status.idle": "2022-04-24T04:10:15.273134Z",
     "shell.execute_reply": "2022-04-24T04:10:15.272261Z"
    },
    "papermill": {
     "duration": 0.052368,
     "end_time": "2022-04-24T04:10:15.275309",
     "exception": false,
     "start_time": "2022-04-24T04:10:15.222941",
     "status": "completed"
    },
    "tags": []
   },
   "outputs": [
    {
     "data": {
      "application/javascript": [
       "parent.postMessage({\"jupyterEvent\": \"custom.exercise_interaction\", \"data\": {\"outcomeType\": 1, \"valueTowardsCompletion\": 0.2, \"interactionType\": 1, \"questionType\": 2, \"questionId\": \"1_SignFunctionProblem\", \"learnToolsVersion\": \"0.3.4\", \"failureMessage\": \"\", \"exceptionClass\": \"\", \"trace\": \"\"}}, \"*\")"
      ],
      "text/plain": [
       "<IPython.core.display.Javascript object>"
      ]
     },
     "metadata": {},
     "output_type": "display_data"
    },
    {
     "data": {
      "text/markdown": [
       "<span style=\"color:#33cc33\">Correct</span>"
      ],
      "text/plain": [
       "Correct"
      ]
     },
     "metadata": {},
     "output_type": "display_data"
    }
   ],
   "source": [
    "# Your code goes here. Define a function called 'sign'\n",
    "def sign(num):\n",
    "    if num > 0:\n",
    "        return 1;\n",
    "    elif num < 0:\n",
    "        return -1\n",
    "    else:\n",
    "        return 0\n",
    "\n",
    "# Check your answer\n",
    "q1.check()"
   ]
  },
  {
   "cell_type": "code",
   "execution_count": 3,
   "id": "6902492c",
   "metadata": {
    "execution": {
     "iopub.execute_input": "2022-04-24T04:10:15.352323Z",
     "iopub.status.busy": "2022-04-24T04:10:15.351985Z",
     "iopub.status.idle": "2022-04-24T04:10:15.355957Z",
     "shell.execute_reply": "2022-04-24T04:10:15.354938Z"
    },
    "papermill": {
     "duration": 0.045247,
     "end_time": "2022-04-24T04:10:15.358401",
     "exception": false,
     "start_time": "2022-04-24T04:10:15.313154",
     "status": "completed"
    },
    "tags": []
   },
   "outputs": [],
   "source": [
    "#q1.solution()"
   ]
  },
  {
   "cell_type": "markdown",
   "id": "5a4c5280",
   "metadata": {
    "papermill": {
     "duration": 0.037563,
     "end_time": "2022-04-24T04:10:15.435204",
     "exception": false,
     "start_time": "2022-04-24T04:10:15.397641",
     "status": "completed"
    },
    "tags": []
   },
   "source": [
    "# 2.\n",
    "\n",
    "We've decided to add \"logging\" to our `to_smash` function from the previous exercise."
   ]
  },
  {
   "cell_type": "code",
   "execution_count": 4,
   "id": "26530030",
   "metadata": {
    "execution": {
     "iopub.execute_input": "2022-04-24T04:10:15.511018Z",
     "iopub.status.busy": "2022-04-24T04:10:15.510522Z",
     "iopub.status.idle": "2022-04-24T04:10:15.518472Z",
     "shell.execute_reply": "2022-04-24T04:10:15.517192Z"
    },
    "papermill": {
     "duration": 0.049296,
     "end_time": "2022-04-24T04:10:15.521277",
     "exception": false,
     "start_time": "2022-04-24T04:10:15.471981",
     "status": "completed"
    },
    "tags": []
   },
   "outputs": [
    {
     "name": "stdout",
     "output_type": "stream",
     "text": [
      "Splitting 91 candies\n"
     ]
    },
    {
     "data": {
      "text/plain": [
       "1"
      ]
     },
     "execution_count": 4,
     "metadata": {},
     "output_type": "execute_result"
    }
   ],
   "source": [
    "def to_smash(total_candies):\n",
    "    \"\"\"Return the number of leftover candies that must be smashed after distributing\n",
    "    the given number of candies evenly between 3 friends.\n",
    "    \n",
    "    >>> to_smash(91)\n",
    "    1\n",
    "    \"\"\"\n",
    "    print(\"Splitting\", total_candies, \"candies\")\n",
    "    return total_candies % 3\n",
    "\n",
    "to_smash(91)"
   ]
  },
  {
   "cell_type": "markdown",
   "id": "e2af776a",
   "metadata": {
    "papermill": {
     "duration": 0.037365,
     "end_time": "2022-04-24T04:10:15.596980",
     "exception": false,
     "start_time": "2022-04-24T04:10:15.559615",
     "status": "completed"
    },
    "tags": []
   },
   "source": [
    "What happens if we call it with `total_candies = 1`?"
   ]
  },
  {
   "cell_type": "code",
   "execution_count": 5,
   "id": "1c8006c4",
   "metadata": {
    "execution": {
     "iopub.execute_input": "2022-04-24T04:10:15.675255Z",
     "iopub.status.busy": "2022-04-24T04:10:15.674710Z",
     "iopub.status.idle": "2022-04-24T04:10:15.681515Z",
     "shell.execute_reply": "2022-04-24T04:10:15.680808Z"
    },
    "papermill": {
     "duration": 0.047693,
     "end_time": "2022-04-24T04:10:15.683309",
     "exception": false,
     "start_time": "2022-04-24T04:10:15.635616",
     "status": "completed"
    },
    "tags": []
   },
   "outputs": [
    {
     "name": "stdout",
     "output_type": "stream",
     "text": [
      "Splitting 1 candies\n"
     ]
    },
    {
     "data": {
      "text/plain": [
       "1"
      ]
     },
     "execution_count": 5,
     "metadata": {},
     "output_type": "execute_result"
    }
   ],
   "source": [
    "to_smash(1)"
   ]
  },
  {
   "cell_type": "markdown",
   "id": "6d9d691f",
   "metadata": {
    "papermill": {
     "duration": 0.039082,
     "end_time": "2022-04-24T04:10:15.761111",
     "exception": false,
     "start_time": "2022-04-24T04:10:15.722029",
     "status": "completed"
    },
    "tags": []
   },
   "source": [
    "That isn't great grammar!\n",
    "\n",
    "Modify the definition in the cell below to correct the grammar of our print statement. (If there's only one candy, we should use the singular \"candy\" instead of the plural \"candies\")"
   ]
  },
  {
   "cell_type": "code",
   "execution_count": 6,
   "id": "e9132d18",
   "metadata": {
    "execution": {
     "iopub.execute_input": "2022-04-24T04:10:15.839869Z",
     "iopub.status.busy": "2022-04-24T04:10:15.839086Z",
     "iopub.status.idle": "2022-04-24T04:10:15.849600Z",
     "shell.execute_reply": "2022-04-24T04:10:15.848334Z"
    },
    "papermill": {
     "duration": 0.052432,
     "end_time": "2022-04-24T04:10:15.851950",
     "exception": false,
     "start_time": "2022-04-24T04:10:15.799518",
     "status": "completed"
    },
    "tags": []
   },
   "outputs": [
    {
     "name": "stdout",
     "output_type": "stream",
     "text": [
      "Splitting 91 candies\n",
      "Splitting 1 candie\n"
     ]
    },
    {
     "data": {
      "text/plain": [
       "1"
      ]
     },
     "execution_count": 6,
     "metadata": {},
     "output_type": "execute_result"
    }
   ],
   "source": [
    "def to_smash(total_candies):\n",
    "    \"\"\"Return the number of leftover candies that must be smashed after distributing\n",
    "    the given number of candies evenly between 3 friends.\n",
    "    \n",
    "    >>> to_smash(91)\n",
    "    1\n",
    "    \"\"\"\n",
    "    if total_candies <=1:\n",
    "        print(\"Splitting\", total_candies, \"candie\")\n",
    "    else:\n",
    "        print(\"Splitting\", total_candies, \"candies\")\n",
    "    return total_candies % 3\n",
    "\n",
    "to_smash(91)\n",
    "to_smash(1)"
   ]
  },
  {
   "cell_type": "markdown",
   "id": "52468341",
   "metadata": {
    "papermill": {
     "duration": 0.038687,
     "end_time": "2022-04-24T04:10:15.930090",
     "exception": false,
     "start_time": "2022-04-24T04:10:15.891403",
     "status": "completed"
    },
    "tags": []
   },
   "source": [
    "To get credit for completing this problem, and to see the official answer, run the code cell below."
   ]
  },
  {
   "cell_type": "code",
   "execution_count": 7,
   "id": "2a8ab5db",
   "metadata": {
    "execution": {
     "iopub.execute_input": "2022-04-24T04:10:16.010021Z",
     "iopub.status.busy": "2022-04-24T04:10:16.009754Z",
     "iopub.status.idle": "2022-04-24T04:10:16.017474Z",
     "shell.execute_reply": "2022-04-24T04:10:16.016523Z"
    },
    "papermill": {
     "duration": 0.050178,
     "end_time": "2022-04-24T04:10:16.019432",
     "exception": false,
     "start_time": "2022-04-24T04:10:15.969254",
     "status": "completed"
    },
    "tags": []
   },
   "outputs": [
    {
     "data": {
      "application/javascript": [
       "parent.postMessage({\"jupyterEvent\": \"custom.exercise_interaction\", \"data\": {\"interactionType\": 3, \"questionType\": 4, \"questionId\": \"2_PluralizationProblem\", \"learnToolsVersion\": \"0.3.4\", \"valueTowardsCompletion\": 0.0, \"failureMessage\": \"\", \"exceptionClass\": \"\", \"trace\": \"\", \"outcomeType\": 4}}, \"*\")"
      ],
      "text/plain": [
       "<IPython.core.display.Javascript object>"
      ]
     },
     "metadata": {},
     "output_type": "display_data"
    },
    {
     "data": {
      "text/markdown": [
       "<span style=\"color:#33cc99\">Solution:</span> A straightforward (and totally fine) solution is to replace the original `print` call with:\n",
       "\n",
       "```python\n",
       "if total_candies == 1:\n",
       "    print(\"Splitting 1 candy\")\n",
       "else:\n",
       "    print(\"Splitting\", total_candies, \"candies\")\n",
       "```\n",
       "\n",
       "Here's a slightly more succinct solution using a conditional expression:\n",
       "\n",
       "```python\n",
       "print(\"Splitting\", total_candies, \"candy\" if total_candies == 1 else \"candies\")\n",
       "```"
      ],
      "text/plain": [
       "Solution: A straightforward (and totally fine) solution is to replace the original `print` call with:\n",
       "\n",
       "```python\n",
       "if total_candies == 1:\n",
       "    print(\"Splitting 1 candy\")\n",
       "else:\n",
       "    print(\"Splitting\", total_candies, \"candies\")\n",
       "```\n",
       "\n",
       "Here's a slightly more succinct solution using a conditional expression:\n",
       "\n",
       "```python\n",
       "print(\"Splitting\", total_candies, \"candy\" if total_candies == 1 else \"candies\")\n",
       "```"
      ]
     },
     "metadata": {},
     "output_type": "display_data"
    }
   ],
   "source": [
    "# Check your answer (Run this code cell to receive credit!)\n",
    "q2.solution()"
   ]
  },
  {
   "cell_type": "markdown",
   "id": "d54972b6",
   "metadata": {
    "papermill": {
     "duration": 0.040122,
     "end_time": "2022-04-24T04:10:16.108728",
     "exception": false,
     "start_time": "2022-04-24T04:10:16.068606",
     "status": "completed"
    },
    "tags": []
   },
   "source": [
    "# 3. <span title=\"A bit spicy\" style=\"color: darkgreen \">🌶️</span>\n",
    "\n",
    "In the tutorial, we talked about deciding whether we're prepared for the weather. I said that I'm safe from today's weather if...\n",
    "- I have an umbrella...\n",
    "- or if the rain isn't too heavy and I have a hood...\n",
    "- otherwise, I'm still fine unless it's raining *and* it's a workday\n",
    "\n",
    "The function below uses our first attempt at turning this logic into a Python expression. I claimed that there was a bug in that code. Can you find it?\n",
    "\n",
    "To prove that `prepared_for_weather` is buggy, come up with a set of inputs where either:\n",
    "- the function returns `False` (but should have returned `True`), or\n",
    "- the function returned `True` (but should have returned `False`).\n",
    "\n",
    "To get credit for completing this question, your code should return a <font color='#33cc33'>Correct</font> result."
   ]
  },
  {
   "cell_type": "code",
   "execution_count": 8,
   "id": "6d62c09b",
   "metadata": {
    "execution": {
     "iopub.execute_input": "2022-04-24T04:10:16.195320Z",
     "iopub.status.busy": "2022-04-24T04:10:16.194381Z",
     "iopub.status.idle": "2022-04-24T04:10:16.207154Z",
     "shell.execute_reply": "2022-04-24T04:10:16.205935Z"
    },
    "papermill": {
     "duration": 0.057561,
     "end_time": "2022-04-24T04:10:16.209413",
     "exception": false,
     "start_time": "2022-04-24T04:10:16.151852",
     "status": "completed"
    },
    "tags": []
   },
   "outputs": [
    {
     "name": "stdout",
     "output_type": "stream",
     "text": [
      "False\n"
     ]
    },
    {
     "data": {
      "application/javascript": [
       "parent.postMessage({\"jupyterEvent\": \"custom.exercise_interaction\", \"data\": {\"outcomeType\": 1, \"valueTowardsCompletion\": 0.2, \"interactionType\": 1, \"questionType\": 1, \"questionId\": \"3_WeatherDebug\", \"learnToolsVersion\": \"0.3.4\", \"failureMessage\": \"\", \"exceptionClass\": \"\", \"trace\": \"\"}}, \"*\")"
      ],
      "text/plain": [
       "<IPython.core.display.Javascript object>"
      ]
     },
     "metadata": {},
     "output_type": "display_data"
    },
    {
     "data": {
      "text/markdown": [
       "<span style=\"color:#33cc33\">Correct:</span> \n",
       "\n",
       "One example of a failing test case is:\n",
       "\n",
       "```python\n",
       "have_umbrella = False\n",
       "rain_level = 0.0\n",
       "have_hood = False\n",
       "is_workday = False\n",
       "```\n",
       "\n",
       "Clearly we're prepared for the weather in this case. It's not raining. Not only that, it's not a workday, so we don't even need to leave the house! But our function will return False on these inputs.\n",
       "\n",
       "The key problem is that Python implictly parenthesizes the last part as:\n",
       "\n",
       "```python\n",
       "(not (rain_level > 0)) and is_workday\n",
       "```\n",
       "\n",
       "Whereas what we were trying to express would look more like:\n",
       "\n",
       "```python\n",
       "not (rain_level > 0 and is_workday)\n",
       "```\n"
      ],
      "text/plain": [
       "Correct: \n",
       "\n",
       "One example of a failing test case is:\n",
       "\n",
       "```python\n",
       "have_umbrella = False\n",
       "rain_level = 0.0\n",
       "have_hood = False\n",
       "is_workday = False\n",
       "```\n",
       "\n",
       "Clearly we're prepared for the weather in this case. It's not raining. Not only that, it's not a workday, so we don't even need to leave the house! But our function will return False on these inputs.\n",
       "\n",
       "The key problem is that Python implictly parenthesizes the last part as:\n",
       "\n",
       "```python\n",
       "(not (rain_level > 0)) and is_workday\n",
       "```\n",
       "\n",
       "Whereas what we were trying to express would look more like:\n",
       "\n",
       "```python\n",
       "not (rain_level > 0 and is_workday)\n",
       "```"
      ]
     },
     "metadata": {},
     "output_type": "display_data"
    }
   ],
   "source": [
    "def prepared_for_weather(have_umbrella, rain_level, have_hood, is_workday):\n",
    "    # Don't change this code. Our goal is just to find the bug, not fix it!\n",
    "    return have_umbrella or rain_level < 5 and have_hood or not rain_level > 0 and is_workday\n",
    "\n",
    "# Change the values of these inputs so they represent a case where prepared_for_weather\n",
    "# returns the wrong answer.\n",
    "have_umbrella = False\n",
    "rain_level = 1.0\n",
    "have_hood = False\n",
    "is_workday = False\n",
    "\n",
    "# Check what the function returns given the current values of the variables above\n",
    "actual = prepared_for_weather(have_umbrella, rain_level, have_hood, is_workday)\n",
    "print(actual)\n",
    "\n",
    "# Check your answer\n",
    "q3.check()"
   ]
  },
  {
   "cell_type": "code",
   "execution_count": 9,
   "id": "1fb3a5c4",
   "metadata": {
    "execution": {
     "iopub.execute_input": "2022-04-24T04:10:16.297096Z",
     "iopub.status.busy": "2022-04-24T04:10:16.296744Z",
     "iopub.status.idle": "2022-04-24T04:10:16.301001Z",
     "shell.execute_reply": "2022-04-24T04:10:16.299983Z"
    },
    "papermill": {
     "duration": 0.050149,
     "end_time": "2022-04-24T04:10:16.303083",
     "exception": false,
     "start_time": "2022-04-24T04:10:16.252934",
     "status": "completed"
    },
    "tags": []
   },
   "outputs": [],
   "source": [
    "#q3.hint()\n",
    "#q3.solution()"
   ]
  },
  {
   "cell_type": "markdown",
   "id": "2fb9927c",
   "metadata": {
    "papermill": {
     "duration": 0.04151,
     "end_time": "2022-04-24T04:10:16.386716",
     "exception": false,
     "start_time": "2022-04-24T04:10:16.345206",
     "status": "completed"
    },
    "tags": []
   },
   "source": [
    "# 4.\n",
    "\n",
    "The function `is_negative` below is implemented correctly - it returns True if the given number is negative and False otherwise.\n",
    "\n",
    "However, it's more verbose than it needs to be. We can actually reduce the number of lines of code in this function by *75%* while keeping the same behaviour. \n",
    "\n",
    "See if you can come up with an equivalent body that uses just **one line** of code, and put it in the function `concise_is_negative`. (HINT: you don't even need Python's ternary syntax)"
   ]
  },
  {
   "cell_type": "code",
   "execution_count": 10,
   "id": "221a0c1a",
   "metadata": {
    "execution": {
     "iopub.execute_input": "2022-04-24T04:10:16.473177Z",
     "iopub.status.busy": "2022-04-24T04:10:16.472602Z",
     "iopub.status.idle": "2022-04-24T04:10:16.481689Z",
     "shell.execute_reply": "2022-04-24T04:10:16.480933Z"
    },
    "papermill": {
     "duration": 0.054753,
     "end_time": "2022-04-24T04:10:16.483659",
     "exception": false,
     "start_time": "2022-04-24T04:10:16.428906",
     "status": "completed"
    },
    "tags": []
   },
   "outputs": [
    {
     "data": {
      "application/javascript": [
       "parent.postMessage({\"jupyterEvent\": \"custom.exercise_interaction\", \"data\": {\"outcomeType\": 1, \"valueTowardsCompletion\": 0.2, \"interactionType\": 1, \"questionType\": 2, \"questionId\": \"4_ConciseIsNegative\", \"learnToolsVersion\": \"0.3.4\", \"failureMessage\": \"\", \"exceptionClass\": \"\", \"trace\": \"\"}}, \"*\")"
      ],
      "text/plain": [
       "<IPython.core.display.Javascript object>"
      ]
     },
     "metadata": {},
     "output_type": "display_data"
    },
    {
     "data": {
      "text/markdown": [
       "<span style=\"color:#33cc33\">Correct</span>"
      ],
      "text/plain": [
       "Correct"
      ]
     },
     "metadata": {},
     "output_type": "display_data"
    }
   ],
   "source": [
    "def is_negative(number):\n",
    "    if number < 0:\n",
    "        return True\n",
    "    else:\n",
    "        return False\n",
    "\n",
    "def concise_is_negative(number):\n",
    "    return number < 0 # Your code goes here (try to keep it to one line!)\n",
    "\n",
    "# Check your answer\n",
    "q4.check()"
   ]
  },
  {
   "cell_type": "code",
   "execution_count": 11,
   "id": "40ae0b55",
   "metadata": {
    "execution": {
     "iopub.execute_input": "2022-04-24T04:10:16.571578Z",
     "iopub.status.busy": "2022-04-24T04:10:16.570995Z",
     "iopub.status.idle": "2022-04-24T04:10:16.574674Z",
     "shell.execute_reply": "2022-04-24T04:10:16.573982Z"
    },
    "papermill": {
     "duration": 0.049931,
     "end_time": "2022-04-24T04:10:16.576586",
     "exception": false,
     "start_time": "2022-04-24T04:10:16.526655",
     "status": "completed"
    },
    "tags": []
   },
   "outputs": [],
   "source": [
    "#q4.hint()\n",
    "#q4.solution()"
   ]
  },
  {
   "cell_type": "markdown",
   "id": "6bb503f2",
   "metadata": {
    "papermill": {
     "duration": 0.043572,
     "end_time": "2022-04-24T04:10:16.663365",
     "exception": false,
     "start_time": "2022-04-24T04:10:16.619793",
     "status": "completed"
    },
    "tags": []
   },
   "source": [
    "# 5a.\n",
    "\n",
    "The boolean variables `ketchup`, `mustard` and `onion` represent whether a customer wants a particular topping on their hot dog. We want to implement a number of boolean functions that correspond to some yes-or-no questions about the customer's order. For example:"
   ]
  },
  {
   "cell_type": "code",
   "execution_count": 12,
   "id": "02af6759",
   "metadata": {
    "execution": {
     "iopub.execute_input": "2022-04-24T04:10:16.751425Z",
     "iopub.status.busy": "2022-04-24T04:10:16.751131Z",
     "iopub.status.idle": "2022-04-24T04:10:16.755488Z",
     "shell.execute_reply": "2022-04-24T04:10:16.754548Z"
    },
    "papermill": {
     "duration": 0.050871,
     "end_time": "2022-04-24T04:10:16.757579",
     "exception": false,
     "start_time": "2022-04-24T04:10:16.706708",
     "status": "completed"
    },
    "tags": []
   },
   "outputs": [],
   "source": [
    "def onionless(ketchup, mustard, onion):\n",
    "    \"\"\"Return whether the customer doesn't want onions.\n",
    "    \"\"\"\n",
    "    return not onion"
   ]
  },
  {
   "cell_type": "code",
   "execution_count": 13,
   "id": "af830894",
   "metadata": {
    "execution": {
     "iopub.execute_input": "2022-04-24T04:10:16.848191Z",
     "iopub.status.busy": "2022-04-24T04:10:16.847657Z",
     "iopub.status.idle": "2022-04-24T04:10:16.856609Z",
     "shell.execute_reply": "2022-04-24T04:10:16.855928Z"
    },
    "papermill": {
     "duration": 0.056682,
     "end_time": "2022-04-24T04:10:16.858539",
     "exception": false,
     "start_time": "2022-04-24T04:10:16.801857",
     "status": "completed"
    },
    "tags": []
   },
   "outputs": [
    {
     "data": {
      "application/javascript": [
       "parent.postMessage({\"jupyterEvent\": \"custom.exercise_interaction\", \"data\": {\"outcomeType\": 1, \"valueTowardsCompletion\": 0.2, \"interactionType\": 1, \"questionType\": 2, \"questionId\": \"5.1_AllToppings\", \"learnToolsVersion\": \"0.3.4\", \"failureMessage\": \"\", \"exceptionClass\": \"\", \"trace\": \"\"}}, \"*\")"
      ],
      "text/plain": [
       "<IPython.core.display.Javascript object>"
      ]
     },
     "metadata": {},
     "output_type": "display_data"
    },
    {
     "data": {
      "text/markdown": [
       "<span style=\"color:#33cc33\">Correct</span>"
      ],
      "text/plain": [
       "Correct"
      ]
     },
     "metadata": {},
     "output_type": "display_data"
    }
   ],
   "source": [
    "def wants_all_toppings(ketchup, mustard, onion):\n",
    "    \"\"\"Return whether the customer wants \"the works\" (all 3 toppings)\n",
    "    \"\"\"\n",
    "    return ketchup and mustard and onion\n",
    "\n",
    "# Check your answer\n",
    "q5.a.check()"
   ]
  },
  {
   "cell_type": "code",
   "execution_count": 14,
   "id": "eb8d8bc7",
   "metadata": {
    "execution": {
     "iopub.execute_input": "2022-04-24T04:10:16.954203Z",
     "iopub.status.busy": "2022-04-24T04:10:16.953615Z",
     "iopub.status.idle": "2022-04-24T04:10:16.957328Z",
     "shell.execute_reply": "2022-04-24T04:10:16.956614Z"
    },
    "papermill": {
     "duration": 0.054921,
     "end_time": "2022-04-24T04:10:16.959369",
     "exception": false,
     "start_time": "2022-04-24T04:10:16.904448",
     "status": "completed"
    },
    "tags": []
   },
   "outputs": [],
   "source": [
    "#q5.a.hint()\n",
    "#q5.a.solution()"
   ]
  },
  {
   "cell_type": "markdown",
   "id": "f4709e0d",
   "metadata": {
    "papermill": {
     "duration": 0.045446,
     "end_time": "2022-04-24T04:10:17.050097",
     "exception": false,
     "start_time": "2022-04-24T04:10:17.004651",
     "status": "completed"
    },
    "tags": []
   },
   "source": [
    "# 5b.\n",
    "\n",
    "For the next function, fill in the body to match the English description in the docstring. "
   ]
  },
  {
   "cell_type": "code",
   "execution_count": 15,
   "id": "3a1991af",
   "metadata": {
    "execution": {
     "iopub.execute_input": "2022-04-24T04:10:17.141547Z",
     "iopub.status.busy": "2022-04-24T04:10:17.140943Z",
     "iopub.status.idle": "2022-04-24T04:10:17.149967Z",
     "shell.execute_reply": "2022-04-24T04:10:17.149138Z"
    },
    "papermill": {
     "duration": 0.057258,
     "end_time": "2022-04-24T04:10:17.152110",
     "exception": false,
     "start_time": "2022-04-24T04:10:17.094852",
     "status": "completed"
    },
    "tags": []
   },
   "outputs": [
    {
     "data": {
      "application/javascript": [
       "parent.postMessage({\"jupyterEvent\": \"custom.exercise_interaction\", \"data\": {\"outcomeType\": 1, \"valueTowardsCompletion\": 0.2, \"interactionType\": 1, \"questionType\": 2, \"questionId\": \"5.2_PlainDog\", \"learnToolsVersion\": \"0.3.4\", \"failureMessage\": \"\", \"exceptionClass\": \"\", \"trace\": \"\"}}, \"*\")"
      ],
      "text/plain": [
       "<IPython.core.display.Javascript object>"
      ]
     },
     "metadata": {},
     "output_type": "display_data"
    },
    {
     "data": {
      "text/markdown": [
       "<span style=\"color:#33cc33\">Correct:</span> \n",
       "\n",
       "One solution looks like:\n",
       "```python\n",
       "return not ketchup and not mustard and not onion\n",
       "```\n",
       "\n",
       "We can also [\"factor out\" the nots](https://en.wikipedia.org/wiki/De_Morgan%27s_laws) to get:\n",
       "\n",
       "```python\n",
       "return not (ketchup or mustard or onion)\n",
       "```"
      ],
      "text/plain": [
       "Correct: \n",
       "\n",
       "One solution looks like:\n",
       "```python\n",
       "return not ketchup and not mustard and not onion\n",
       "```\n",
       "\n",
       "We can also [\"factor out\" the nots](https://en.wikipedia.org/wiki/De_Morgan%27s_laws) to get:\n",
       "\n",
       "```python\n",
       "return not (ketchup or mustard or onion)\n",
       "```"
      ]
     },
     "metadata": {},
     "output_type": "display_data"
    }
   ],
   "source": [
    "def wants_plain_hotdog(ketchup, mustard, onion):\n",
    "    \"\"\"Return whether the customer wants a plain hot dog with no toppings.\n",
    "    \"\"\"\n",
    "    return not ketchup and not mustard and not onion\n",
    "\n",
    "# Check your answer\n",
    "q5.b.check()"
   ]
  },
  {
   "cell_type": "code",
   "execution_count": 16,
   "id": "e34068b5",
   "metadata": {
    "execution": {
     "iopub.execute_input": "2022-04-24T04:10:17.248909Z",
     "iopub.status.busy": "2022-04-24T04:10:17.248361Z",
     "iopub.status.idle": "2022-04-24T04:10:17.251857Z",
     "shell.execute_reply": "2022-04-24T04:10:17.251272Z"
    },
    "papermill": {
     "duration": 0.054783,
     "end_time": "2022-04-24T04:10:17.253727",
     "exception": false,
     "start_time": "2022-04-24T04:10:17.198944",
     "status": "completed"
    },
    "tags": []
   },
   "outputs": [],
   "source": [
    "#q5.b.hint()\n",
    "#q5.b.solution()"
   ]
  },
  {
   "cell_type": "markdown",
   "id": "4aec1f49",
   "metadata": {
    "papermill": {
     "duration": 0.045655,
     "end_time": "2022-04-24T04:10:17.345540",
     "exception": false,
     "start_time": "2022-04-24T04:10:17.299885",
     "status": "completed"
    },
    "tags": []
   },
   "source": [
    "# 5c.\n",
    "\n",
    "You know what to do: for the next function, fill in the body to match the English description in the docstring."
   ]
  },
  {
   "cell_type": "code",
   "execution_count": 17,
   "id": "0e89feff",
   "metadata": {
    "execution": {
     "iopub.execute_input": "2022-04-24T04:10:17.440743Z",
     "iopub.status.busy": "2022-04-24T04:10:17.440173Z",
     "iopub.status.idle": "2022-04-24T04:10:17.449179Z",
     "shell.execute_reply": "2022-04-24T04:10:17.448329Z"
    },
    "papermill": {
     "duration": 0.05981,
     "end_time": "2022-04-24T04:10:17.451316",
     "exception": false,
     "start_time": "2022-04-24T04:10:17.391506",
     "status": "completed"
    },
    "tags": []
   },
   "outputs": [
    {
     "data": {
      "application/javascript": [
       "parent.postMessage({\"jupyterEvent\": \"custom.exercise_interaction\", \"data\": {\"outcomeType\": 1, \"valueTowardsCompletion\": 0.2, \"interactionType\": 1, \"questionType\": 2, \"questionId\": \"5.3_OneSauce\", \"learnToolsVersion\": \"0.3.4\", \"failureMessage\": \"\", \"exceptionClass\": \"\", \"trace\": \"\"}}, \"*\")"
      ],
      "text/plain": [
       "<IPython.core.display.Javascript object>"
      ]
     },
     "metadata": {},
     "output_type": "display_data"
    },
    {
     "data": {
      "text/markdown": [
       "<span style=\"color:#33cc33\">Correct</span>"
      ],
      "text/plain": [
       "Correct"
      ]
     },
     "metadata": {},
     "output_type": "display_data"
    }
   ],
   "source": [
    "def exactly_one_sauce(ketchup, mustard, onion):\n",
    "    \"\"\"Return whether the customer wants either ketchup or mustard, but not both.\n",
    "    (You may be familiar with this operation under the name \"exclusive or\")\n",
    "    \"\"\"\n",
    "    return ketchup ^ mustard\n",
    "\n",
    "# Check your answer\n",
    "q5.c.check()"
   ]
  },
  {
   "cell_type": "code",
   "execution_count": 18,
   "id": "bcebec8a",
   "metadata": {
    "execution": {
     "iopub.execute_input": "2022-04-24T04:10:17.547636Z",
     "iopub.status.busy": "2022-04-24T04:10:17.547030Z",
     "iopub.status.idle": "2022-04-24T04:10:17.550772Z",
     "shell.execute_reply": "2022-04-24T04:10:17.550120Z"
    },
    "papermill": {
     "duration": 0.05438,
     "end_time": "2022-04-24T04:10:17.552835",
     "exception": false,
     "start_time": "2022-04-24T04:10:17.498455",
     "status": "completed"
    },
    "tags": []
   },
   "outputs": [],
   "source": [
    "#q5.c.hint()\n",
    "#q5.c.solution()"
   ]
  },
  {
   "cell_type": "markdown",
   "id": "656ada92",
   "metadata": {
    "papermill": {
     "duration": 0.047672,
     "end_time": "2022-04-24T04:10:17.647636",
     "exception": false,
     "start_time": "2022-04-24T04:10:17.599964",
     "status": "completed"
    },
    "tags": []
   },
   "source": [
    "# 6. <span title=\"A bit spicy\" style=\"color: darkgreen \">🌶️</span>\n",
    "\n",
    "We’ve seen that calling `bool()` on an integer returns `False` if it’s equal to 0 and `True` otherwise. What happens if we call `int()` on a bool? Try it out in the notebook cell below.\n",
    "\n",
    "Can you take advantage of this to write a succinct function that corresponds to the English sentence \"does the customer want exactly one topping?\"?"
   ]
  },
  {
   "cell_type": "code",
   "execution_count": 19,
   "id": "f7f1fec6",
   "metadata": {
    "execution": {
     "iopub.execute_input": "2022-04-24T04:10:17.744554Z",
     "iopub.status.busy": "2022-04-24T04:10:17.744234Z",
     "iopub.status.idle": "2022-04-24T04:10:17.752780Z",
     "shell.execute_reply": "2022-04-24T04:10:17.752019Z"
    },
    "papermill": {
     "duration": 0.05923,
     "end_time": "2022-04-24T04:10:17.754691",
     "exception": false,
     "start_time": "2022-04-24T04:10:17.695461",
     "status": "completed"
    },
    "tags": []
   },
   "outputs": [
    {
     "data": {
      "application/javascript": [
       "parent.postMessage({\"jupyterEvent\": \"custom.exercise_interaction\", \"data\": {\"outcomeType\": 1, \"valueTowardsCompletion\": 0.2, \"interactionType\": 1, \"questionType\": 2, \"questionId\": \"6_OneTopping\", \"learnToolsVersion\": \"0.3.4\", \"failureMessage\": \"\", \"exceptionClass\": \"\", \"trace\": \"\"}}, \"*\")"
      ],
      "text/plain": [
       "<IPython.core.display.Javascript object>"
      ]
     },
     "metadata": {},
     "output_type": "display_data"
    },
    {
     "data": {
      "text/markdown": [
       "<span style=\"color:#33cc33\">Correct:</span> \n",
       "\n",
       "This condition would be pretty complicated to express using just `and`, `or` and `not`, but using boolean-to-integer conversion gives us this short solution:\n",
       "```python\n",
       "return (int(ketchup) + int(mustard) + int(onion)) == 1\n",
       "```\n",
       "\n",
       "Fun fact: we don't technically need to call `int` on the arguments. Just by doing addition with booleans, Python implicitly does the integer conversion. So we could also write...\n",
       "\n",
       "```python\n",
       "return (ketchup + mustard + onion) == 1\n",
       "```"
      ],
      "text/plain": [
       "Correct: \n",
       "\n",
       "This condition would be pretty complicated to express using just `and`, `or` and `not`, but using boolean-to-integer conversion gives us this short solution:\n",
       "```python\n",
       "return (int(ketchup) + int(mustard) + int(onion)) == 1\n",
       "```\n",
       "\n",
       "Fun fact: we don't technically need to call `int` on the arguments. Just by doing addition with booleans, Python implicitly does the integer conversion. So we could also write...\n",
       "\n",
       "```python\n",
       "return (ketchup + mustard + onion) == 1\n",
       "```"
      ]
     },
     "metadata": {},
     "output_type": "display_data"
    }
   ],
   "source": [
    "def exactly_one_topping(ketchup, mustard, onion):\n",
    "    \"\"\"Return whether the customer wants exactly one of the three available toppings\n",
    "    on their hot dog.\n",
    "    \"\"\"\n",
    "    return (int(ketchup) + int(mustard) + int(onion)) == 1\n",
    "\n",
    "# Check your answer\n",
    "q6.check()"
   ]
  },
  {
   "cell_type": "code",
   "execution_count": 20,
   "id": "8821be0d",
   "metadata": {
    "execution": {
     "iopub.execute_input": "2022-04-24T04:10:17.854964Z",
     "iopub.status.busy": "2022-04-24T04:10:17.854532Z",
     "iopub.status.idle": "2022-04-24T04:10:17.858785Z",
     "shell.execute_reply": "2022-04-24T04:10:17.857787Z"
    },
    "papermill": {
     "duration": 0.056327,
     "end_time": "2022-04-24T04:10:17.860906",
     "exception": false,
     "start_time": "2022-04-24T04:10:17.804579",
     "status": "completed"
    },
    "tags": []
   },
   "outputs": [],
   "source": [
    "#q6.hint()\n",
    "#q6.solution()"
   ]
  },
  {
   "cell_type": "markdown",
   "id": "eb033ec9",
   "metadata": {
    "papermill": {
     "duration": 0.048869,
     "end_time": "2022-04-24T04:10:17.958445",
     "exception": false,
     "start_time": "2022-04-24T04:10:17.909576",
     "status": "completed"
    },
    "tags": []
   },
   "source": [
    "# 7. <span title=\"A bit spicy\" style=\"color: darkgreen \">🌶️</span> (Optional)\n",
    "\n",
    "In this problem we'll be working with a simplified version of [blackjack](https://en.wikipedia.org/wiki/Blackjack) (aka twenty-one). In this version there is one player (who you'll control) and a dealer. Play proceeds as follows:\n",
    "\n",
    "- The player is dealt two face-up cards. The dealer is dealt one face-up card.\n",
    "- The player may ask to be dealt another card ('hit') as many times as they wish. If the sum of their cards exceeds 21, they lose the round immediately.\n",
    "- The dealer then deals additional cards to himself until either:\n",
    "    - the sum of the dealer's cards exceeds 21, in which case the player wins the round\n",
    "    - the sum of the dealer's cards is greater than or equal to 17. If the player's total is greater than the dealer's, the player wins. Otherwise, the dealer wins (even in case of a tie).\n",
    "    \n",
    "When calculating the sum of cards, Jack, Queen, and King count for 10. Aces can count as 1 or 11 (when referring to a player's \"total\" above, we mean the largest total that can be made without exceeding 21. So e.g. A+8 = 19, A+8+8 = 17)\n",
    "\n",
    "For this problem, you'll write a function representing the player's decision-making strategy in this game. We've provided a very unintelligent implementation below:"
   ]
  },
  {
   "cell_type": "code",
   "execution_count": 21,
   "id": "98ef7c56",
   "metadata": {
    "execution": {
     "iopub.execute_input": "2022-04-24T04:10:18.062448Z",
     "iopub.status.busy": "2022-04-24T04:10:18.061936Z",
     "iopub.status.idle": "2022-04-24T04:10:18.066738Z",
     "shell.execute_reply": "2022-04-24T04:10:18.065944Z"
    },
    "papermill": {
     "duration": 0.059313,
     "end_time": "2022-04-24T04:10:18.069197",
     "exception": false,
     "start_time": "2022-04-24T04:10:18.009884",
     "status": "completed"
    },
    "tags": []
   },
   "outputs": [],
   "source": [
    "def should_hit(dealer_total, player_total, player_low_aces, player_high_aces):\n",
    "    \"\"\"Return True if the player should hit (request another card) given the current game\n",
    "    state, or False if the player should stay.\n",
    "    When calculating a hand's total value, we count aces as \"high\" (with value 11) if doing so\n",
    "    doesn't bring the total above 21, otherwise we count them as low (with value 1). \n",
    "    For example, if the player's hand is {A, A, A, 7}, we will count it as 11 + 1 + 1 + 7,\n",
    "    and therefore set player_total=20, player_low_aces=2, player_high_aces=1.\n",
    "    \"\"\"\n",
    "    return player_total < 13 or dealer_total>=player_total"
   ]
  },
  {
   "cell_type": "markdown",
   "id": "e0237fe8",
   "metadata": {
    "papermill": {
     "duration": 0.048893,
     "end_time": "2022-04-24T04:10:18.168599",
     "exception": false,
     "start_time": "2022-04-24T04:10:18.119706",
     "status": "completed"
    },
    "tags": []
   },
   "source": [
    "This very conservative agent *always* sticks with the hand of two cards that they're dealt.\n",
    "\n",
    "We'll be simulating games between your player agent and our own dealer agent by calling your function.\n",
    "\n",
    "Try running the function below to see an example of a simulated game:"
   ]
  },
  {
   "cell_type": "code",
   "execution_count": 22,
   "id": "af11220e",
   "metadata": {
    "execution": {
     "iopub.execute_input": "2022-04-24T04:10:18.272301Z",
     "iopub.status.busy": "2022-04-24T04:10:18.271951Z",
     "iopub.status.idle": "2022-04-24T04:10:18.279583Z",
     "shell.execute_reply": "2022-04-24T04:10:18.278115Z"
    },
    "papermill": {
     "duration": 0.062939,
     "end_time": "2022-04-24T04:10:18.281968",
     "exception": false,
     "start_time": "2022-04-24T04:10:18.219029",
     "status": "completed"
    },
    "tags": []
   },
   "outputs": [
    {
     "name": "stdout",
     "output_type": "stream",
     "text": [
      "Player starts with 6 and 2 (total = 8)\n",
      "Dealer starts with 2\n",
      "\n",
      "__Player's turn__\n",
      "Player hits and receives 4. (total = 12)\n",
      "Player hits and receives 7. (total = 19)\n",
      "Player stays\n",
      "\n",
      "__Dealer's turn__\n",
      "Dealer hits and receives 7. (total = 9)\n",
      "Dealer hits and receives 5. (total = 14)\n",
      "Dealer hits and receives 8. (total = 22)\n",
      "Dealer busts! Player wins.\n"
     ]
    }
   ],
   "source": [
    "q7.simulate_one_game()"
   ]
  },
  {
   "cell_type": "markdown",
   "id": "e31ef1b4",
   "metadata": {
    "papermill": {
     "duration": 0.053728,
     "end_time": "2022-04-24T04:10:18.385112",
     "exception": false,
     "start_time": "2022-04-24T04:10:18.331384",
     "status": "completed"
    },
    "tags": []
   },
   "source": [
    "The real test of your agent's mettle is their average win rate over many games. Try calling the function below to simulate 50000 games of blackjack (it may take a couple seconds):"
   ]
  },
  {
   "cell_type": "code",
   "execution_count": 23,
   "id": "d9f97ceb",
   "metadata": {
    "execution": {
     "iopub.execute_input": "2022-04-24T04:10:18.488386Z",
     "iopub.status.busy": "2022-04-24T04:10:18.488083Z",
     "iopub.status.idle": "2022-04-24T04:10:20.674295Z",
     "shell.execute_reply": "2022-04-24T04:10:20.673250Z"
    },
    "papermill": {
     "duration": 2.241022,
     "end_time": "2022-04-24T04:10:20.676995",
     "exception": false,
     "start_time": "2022-04-24T04:10:18.435973",
     "status": "completed"
    },
    "tags": []
   },
   "outputs": [
    {
     "name": "stdout",
     "output_type": "stream",
     "text": [
      "Player won 20858 out of 50000 games (win rate = 41.7%)\n"
     ]
    }
   ],
   "source": [
    "q7.simulate(n_games=50000)"
   ]
  },
  {
   "cell_type": "markdown",
   "id": "71093400",
   "metadata": {
    "papermill": {
     "duration": 0.05027,
     "end_time": "2022-04-24T04:10:20.777748",
     "exception": false,
     "start_time": "2022-04-24T04:10:20.727478",
     "status": "completed"
    },
    "tags": []
   },
   "source": [
    "Our dumb agent that completely ignores the game state still manages to win shockingly often!\n",
    "\n",
    "Try adding some more smarts to the `should_hit` function and see how it affects the results."
   ]
  },
  {
   "cell_type": "code",
   "execution_count": 24,
   "id": "bc11592f",
   "metadata": {
    "execution": {
     "iopub.execute_input": "2022-04-24T04:10:20.880172Z",
     "iopub.status.busy": "2022-04-24T04:10:20.879627Z",
     "iopub.status.idle": "2022-04-24T04:10:23.041733Z",
     "shell.execute_reply": "2022-04-24T04:10:23.040730Z"
    },
    "papermill": {
     "duration": 2.216575,
     "end_time": "2022-04-24T04:10:23.043954",
     "exception": false,
     "start_time": "2022-04-24T04:10:20.827379",
     "status": "completed"
    },
    "tags": []
   },
   "outputs": [
    {
     "name": "stdout",
     "output_type": "stream",
     "text": [
      "Player won 20662 out of 50000 games (win rate = 41.3%)\n"
     ]
    }
   ],
   "source": [
    "def should_hit(dealer_total, player_total, player_low_aces, player_high_aces):\n",
    "    \"\"\"Return True if the player should hit (request another card) given the current game\n",
    "    state, or False if the player should stay.\n",
    "    When calculating a hand's total value, we count aces as \"high\" (with value 11) if doing so\n",
    "    doesn't bring the total above 21, otherwise we count them as low (with value 1). \n",
    "    For example, if the player's hand is {A, A, A, 7}, we will count it as 11 + 1 + 1 + 7,\n",
    "    and therefore set player_total=20, player_low_aces=2, player_high_aces=1.\n",
    "    \"\"\"\n",
    "    return player_total < 13 or dealer_total>=player_total\n",
    "\n",
    "q7.simulate(n_games=50000)"
   ]
  },
  {
   "cell_type": "markdown",
   "id": "cc426eeb",
   "metadata": {
    "papermill": {
     "duration": 0.050813,
     "end_time": "2022-04-24T04:10:23.146188",
     "exception": false,
     "start_time": "2022-04-24T04:10:23.095375",
     "status": "completed"
    },
    "tags": []
   },
   "source": [
    "# Keep Going\n",
    "\n",
    "Learn about **[lists and tuples](https://www.kaggle.com/colinmorris/lists)** to handle multiple items of data in a systematic way."
   ]
  },
  {
   "cell_type": "markdown",
   "id": "b5f2968f",
   "metadata": {
    "papermill": {
     "duration": 0.05042,
     "end_time": "2022-04-24T04:10:23.247944",
     "exception": false,
     "start_time": "2022-04-24T04:10:23.197524",
     "status": "completed"
    },
    "tags": []
   },
   "source": [
    "---\n",
    "\n",
    "\n",
    "\n",
    "\n",
    "*Have questions or comments? Visit the [course discussion forum](https://www.kaggle.com/learn/python/discussion) to chat with other learners.*"
   ]
  }
 ],
 "metadata": {
  "kernelspec": {
   "display_name": "Python 3",
   "language": "python",
   "name": "python3"
  },
  "language_info": {
   "codemirror_mode": {
    "name": "ipython",
    "version": 3
   },
   "file_extension": ".py",
   "mimetype": "text/x-python",
   "name": "python",
   "nbconvert_exporter": "python",
   "pygments_lexer": "ipython3",
   "version": "3.7.12"
  },
  "papermill": {
   "default_parameters": {},
   "duration": 19.800302,
   "end_time": "2022-04-24T04:10:23.918960",
   "environment_variables": {},
   "exception": null,
   "input_path": "__notebook__.ipynb",
   "output_path": "__notebook__.ipynb",
   "parameters": {},
   "start_time": "2022-04-24T04:10:04.118658",
   "version": "2.3.4"
  }
 },
 "nbformat": 4,
 "nbformat_minor": 5
}
