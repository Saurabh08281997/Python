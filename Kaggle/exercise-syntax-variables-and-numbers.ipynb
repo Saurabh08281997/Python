{
 "cells": [
  {
   "cell_type": "markdown",
   "id": "9c652cd6",
   "metadata": {
    "papermill": {
     "duration": 0.025809,
     "end_time": "2022-04-21T03:57:44.923384",
     "exception": false,
     "start_time": "2022-04-21T03:57:44.897575",
     "status": "completed"
    },
    "tags": []
   },
   "source": [
    "**This notebook is an exercise in the [Python](https://www.kaggle.com/learn/python) course.  You can reference the tutorial at [this link](https://www.kaggle.com/colinmorris/hello-python).**\n",
    "\n",
    "---\n"
   ]
  },
  {
   "cell_type": "markdown",
   "id": "425f384e",
   "metadata": {
    "papermill": {
     "duration": 0.023851,
     "end_time": "2022-04-21T03:57:44.971896",
     "exception": false,
     "start_time": "2022-04-21T03:57:44.948045",
     "status": "completed"
    },
    "tags": []
   },
   "source": [
    "Welcome to your first set of Python coding problems.  If this is your first time using Kaggle Notebooks, welcome! \n",
    "\n",
    "Notebooks are composed of blocks (called \"cells\") of text and code. Each of these is editable, though you'll mainly be editing the code cells to answer some questions.\n",
    "\n",
    "To get started, try running the code cell below (by pressing the ► button, or clicking on the cell and pressing ctrl+enter on your keyboard)."
   ]
  },
  {
   "cell_type": "code",
   "execution_count": 1,
   "id": "0f6d141f",
   "metadata": {
    "execution": {
     "iopub.execute_input": "2022-04-21T03:57:45.024030Z",
     "iopub.status.busy": "2022-04-21T03:57:45.023406Z",
     "iopub.status.idle": "2022-04-21T03:57:45.035474Z",
     "shell.execute_reply": "2022-04-21T03:57:45.034847Z"
    },
    "papermill": {
     "duration": 0.042523,
     "end_time": "2022-04-21T03:57:45.038182",
     "exception": false,
     "start_time": "2022-04-21T03:57:44.995659",
     "status": "completed"
    },
    "tags": []
   },
   "outputs": [
    {
     "name": "stdout",
     "output_type": "stream",
     "text": [
      "You've successfully run some Python code\n",
      "Congratulations!\n"
     ]
    }
   ],
   "source": [
    "print(\"You've successfully run some Python code\")\n",
    "print(\"Congratulations!\")"
   ]
  },
  {
   "cell_type": "markdown",
   "id": "be2f238b",
   "metadata": {
    "papermill": {
     "duration": 0.026363,
     "end_time": "2022-04-21T03:57:45.099976",
     "exception": false,
     "start_time": "2022-04-21T03:57:45.073613",
     "status": "completed"
    },
    "tags": []
   },
   "source": [
    "Try adding another line of code in the cell above and re-running it. \n",
    "\n",
    "Now let's get a little fancier:  Add a new code cell by clicking on an existing code cell, hitting the escape key, and then hitting the `a` or `b` key.  The `a` key will add a cell above the current cell, and `b` adds a cell below.\n",
    "\n",
    "Great! Now you know how to use Notebooks.\n",
    "\n",
    "Each hands-on exercise starts by setting up our feedback and code checking mechanism. Run the code cell below to do that. Then you'll be ready to move on to question 0."
   ]
  },
  {
   "cell_type": "code",
   "execution_count": 2,
   "id": "de00034d",
   "metadata": {
    "_kg_hide-input": true,
    "_kg_hide-output": true,
    "execution": {
     "iopub.execute_input": "2022-04-21T03:57:45.154665Z",
     "iopub.status.busy": "2022-04-21T03:57:45.154107Z",
     "iopub.status.idle": "2022-04-21T03:57:45.198876Z",
     "shell.execute_reply": "2022-04-21T03:57:45.198044Z"
    },
    "papermill": {
     "duration": 0.073084,
     "end_time": "2022-04-21T03:57:45.201424",
     "exception": false,
     "start_time": "2022-04-21T03:57:45.128340",
     "status": "completed"
    },
    "tags": []
   },
   "outputs": [
    {
     "name": "stdout",
     "output_type": "stream",
     "text": [
      "Setup complete! You're ready to start question 0.\n"
     ]
    }
   ],
   "source": [
    "from learntools.core import binder; binder.bind(globals())\n",
    "from learntools.python.ex1 import *\n",
    "print(\"Setup complete! You're ready to start question 0.\")"
   ]
  },
  {
   "cell_type": "markdown",
   "id": "36b90378",
   "metadata": {
    "papermill": {
     "duration": 0.024414,
     "end_time": "2022-04-21T03:57:45.251896",
     "exception": false,
     "start_time": "2022-04-21T03:57:45.227482",
     "status": "completed"
    },
    "tags": []
   },
   "source": [
    "# 0.\n",
    "\n",
    "*This is a silly question intended as an introduction to the format we use for hands-on exercises throughout all Kaggle courses.*\n",
    "\n",
    "**What is your favorite color? **\n",
    "\n",
    "To complete this question, create a variable called `color` in the cell below with an appropriate value. The function call `q0.check()` (which we've already provided in the cell below) will check your answer."
   ]
  },
  {
   "cell_type": "code",
   "execution_count": 3,
   "id": "000e670c",
   "metadata": {
    "execution": {
     "iopub.execute_input": "2022-04-21T03:57:45.302590Z",
     "iopub.status.busy": "2022-04-21T03:57:45.302302Z",
     "iopub.status.idle": "2022-04-21T03:57:45.312471Z",
     "shell.execute_reply": "2022-04-21T03:57:45.311660Z"
    },
    "papermill": {
     "duration": 0.037894,
     "end_time": "2022-04-21T03:57:45.314479",
     "exception": false,
     "start_time": "2022-04-21T03:57:45.276585",
     "status": "completed"
    },
    "tags": []
   },
   "outputs": [
    {
     "data": {
      "application/javascript": [
       "parent.postMessage({\"jupyterEvent\": \"custom.exercise_interaction\", \"data\": {\"outcomeType\": 1, \"valueTowardsCompletion\": 0.25, \"interactionType\": 1, \"questionType\": 2, \"questionId\": \"0_ExerciseFormatTutorial\", \"learnToolsVersion\": \"0.3.4\", \"failureMessage\": \"\", \"exceptionClass\": \"\", \"trace\": \"\"}}, \"*\")"
      ],
      "text/plain": [
       "<IPython.core.display.Javascript object>"
      ]
     },
     "metadata": {},
     "output_type": "display_data"
    },
    {
     "data": {
      "text/markdown": [
       "<span style=\"color:#33cc33\">Correct:</span> What?! You got it right without needing a hint or anything? Drats. Well hey, you should still continue to the next step to get some practice asking for a hint and checking solutions. (Even though you obviously don't need any help here.)"
      ],
      "text/plain": [
       "Correct: What?! You got it right without needing a hint or anything? Drats. Well hey, you should still continue to the next step to get some practice asking for a hint and checking solutions. (Even though you obviously don't need any help here.)"
      ]
     },
     "metadata": {},
     "output_type": "display_data"
    }
   ],
   "source": [
    "# create a variable called color with an appropriate value on the line below\n",
    "# (Remember, strings in Python must be enclosed in 'single' or \"double\" quotes)\n",
    "color = \"blue\"\n",
    "\n",
    "# Check your answer\n",
    "q0.check()"
   ]
  },
  {
   "cell_type": "markdown",
   "id": "beece6ec",
   "metadata": {
    "papermill": {
     "duration": 0.025566,
     "end_time": "2022-04-21T03:57:45.368019",
     "exception": false,
     "start_time": "2022-04-21T03:57:45.342453",
     "status": "completed"
    },
    "tags": []
   },
   "source": [
    "Didn't get the right answer? How do you not even know your own favorite color?!\n",
    "\n",
    "Delete the `#` in the line below to make one of the lines run. You can choose between getting a hint or the full answer by choosing which line to remove the `#` from. \n",
    "\n",
    "Removing the `#` is called uncommenting, because it changes that line from a \"comment\" which Python doesn't run to code, which Python does run."
   ]
  },
  {
   "cell_type": "code",
   "execution_count": 4,
   "id": "12e34753",
   "metadata": {
    "execution": {
     "iopub.execute_input": "2022-04-21T03:57:45.421967Z",
     "iopub.status.busy": "2022-04-21T03:57:45.421327Z",
     "iopub.status.idle": "2022-04-21T03:57:45.425134Z",
     "shell.execute_reply": "2022-04-21T03:57:45.424229Z"
    },
    "papermill": {
     "duration": 0.033004,
     "end_time": "2022-04-21T03:57:45.427224",
     "exception": false,
     "start_time": "2022-04-21T03:57:45.394220",
     "status": "completed"
    },
    "tags": []
   },
   "outputs": [],
   "source": [
    "#q0.hint()\n",
    "#q0.solution()"
   ]
  },
  {
   "cell_type": "markdown",
   "id": "63e5cc9f",
   "metadata": {
    "papermill": {
     "duration": 0.025635,
     "end_time": "2022-04-21T03:57:45.478948",
     "exception": false,
     "start_time": "2022-04-21T03:57:45.453313",
     "status": "completed"
    },
    "tags": []
   },
   "source": [
    "The upcoming questions work the same way. The only thing that will change are the question numbers. For the next question, you'll call `q1.check()`, `q1.hint()`, `q1.solution()`, for question 2, you'll call `q2.check()`, and so on."
   ]
  },
  {
   "cell_type": "markdown",
   "id": "0ce63c2f",
   "metadata": {
    "papermill": {
     "duration": 0.026133,
     "end_time": "2022-04-21T03:57:45.530912",
     "exception": false,
     "start_time": "2022-04-21T03:57:45.504779",
     "status": "completed"
    },
    "tags": []
   },
   "source": [
    "<hr/>\n",
    "\n",
    "# 1.\n",
    "\n",
    "Complete the code below. In case it's helpful, here is the table of available arithmetic operations:\n",
    "\n",
    "\n",
    "\n",
    "| Operator     | Name           | Description                                            |\n",
    "|--------------|----------------|--------------------------------------------------------|\n",
    "| ``a + b``    | Addition       | Sum of ``a`` and ``b``                                 |\n",
    "| ``a - b``    | Subtraction    | Difference of ``a`` and ``b``                          |\n",
    "| ``a * b``    | Multiplication | Product of ``a`` and ``b``                             |\n",
    "| ``a / b``    | True division  | Quotient of ``a`` and ``b``                            |\n",
    "| ``a // b``   | Floor division | Quotient of ``a`` and ``b``, removing fractional parts |\n",
    "| ``a % b``    | Modulus        | Integer remainder after division of ``a`` by ``b``     |\n",
    "| ``a ** b``   | Exponentiation | ``a`` raised to the power of ``b``                     |\n",
    "| ``-a``       | Negation       | The negative of ``a``                                  |\n",
    "\n",
    "<span style=\"display:none\"></span>\n"
   ]
  },
  {
   "cell_type": "code",
   "execution_count": 5,
   "id": "711fb101",
   "metadata": {
    "execution": {
     "iopub.execute_input": "2022-04-21T03:57:45.584332Z",
     "iopub.status.busy": "2022-04-21T03:57:45.583729Z",
     "iopub.status.idle": "2022-04-21T03:57:45.591540Z",
     "shell.execute_reply": "2022-04-21T03:57:45.590752Z"
    },
    "papermill": {
     "duration": 0.037185,
     "end_time": "2022-04-21T03:57:45.593856",
     "exception": false,
     "start_time": "2022-04-21T03:57:45.556671",
     "status": "completed"
    },
    "tags": []
   },
   "outputs": [
    {
     "data": {
      "application/javascript": [
       "parent.postMessage({\"jupyterEvent\": \"custom.exercise_interaction\", \"data\": {\"outcomeType\": 1, \"valueTowardsCompletion\": 0.25, \"interactionType\": 1, \"questionType\": 1, \"questionId\": \"1_CircleArea\", \"learnToolsVersion\": \"0.3.4\", \"failureMessage\": \"\", \"exceptionClass\": \"\", \"trace\": \"\"}}, \"*\")"
      ],
      "text/plain": [
       "<IPython.core.display.Javascript object>"
      ]
     },
     "metadata": {},
     "output_type": "display_data"
    },
    {
     "data": {
      "text/markdown": [
       "<span style=\"color:#33cc33\">Correct</span>"
      ],
      "text/plain": [
       "Correct"
      ]
     },
     "metadata": {},
     "output_type": "display_data"
    }
   ],
   "source": [
    "pi = 3.14159 # approximate\n",
    "diameter = 3\n",
    "\n",
    "# Create a variable called 'radius' equal to half the diameter\n",
    "radius = diameter/2\n",
    "\n",
    "# Create a variable called 'area', using the formula for the area of a circle: pi times the radius squared\n",
    "area = pi*radius**2\n",
    "\n",
    "# Check your answer\n",
    "q1.check()"
   ]
  },
  {
   "cell_type": "code",
   "execution_count": 6,
   "id": "56ba768e",
   "metadata": {
    "execution": {
     "iopub.execute_input": "2022-04-21T03:57:45.651389Z",
     "iopub.status.busy": "2022-04-21T03:57:45.650857Z",
     "iopub.status.idle": "2022-04-21T03:57:45.654280Z",
     "shell.execute_reply": "2022-04-21T03:57:45.653760Z"
    },
    "papermill": {
     "duration": 0.033905,
     "end_time": "2022-04-21T03:57:45.656132",
     "exception": false,
     "start_time": "2022-04-21T03:57:45.622227",
     "status": "completed"
    },
    "tags": []
   },
   "outputs": [],
   "source": [
    "# Uncomment and run the lines below if you need help.\n",
    "#q1.hint()\n",
    "#q1.solution()"
   ]
  },
  {
   "cell_type": "markdown",
   "id": "ac68c077",
   "metadata": {
    "papermill": {
     "duration": 0.026955,
     "end_time": "2022-04-21T03:57:45.710255",
     "exception": false,
     "start_time": "2022-04-21T03:57:45.683300",
     "status": "completed"
    },
    "tags": []
   },
   "source": [
    "<hr/>\n",
    "\n",
    "# 2.\n",
    "\n",
    "Add code to the following cell to swap variables `a` and `b` (so that `a` refers to the object previously referred to by `b` and vice versa)."
   ]
  },
  {
   "cell_type": "code",
   "execution_count": 7,
   "id": "c92d5090",
   "metadata": {
    "execution": {
     "iopub.execute_input": "2022-04-21T03:57:45.766442Z",
     "iopub.status.busy": "2022-04-21T03:57:45.765896Z",
     "iopub.status.idle": "2022-04-21T03:57:45.775137Z",
     "shell.execute_reply": "2022-04-21T03:57:45.774289Z"
    },
    "papermill": {
     "duration": 0.039585,
     "end_time": "2022-04-21T03:57:45.777044",
     "exception": false,
     "start_time": "2022-04-21T03:57:45.737459",
     "status": "completed"
    },
    "tags": []
   },
   "outputs": [
    {
     "data": {
      "application/javascript": [
       "parent.postMessage({\"jupyterEvent\": \"custom.exercise_interaction\", \"data\": {\"outcomeType\": 1, \"valueTowardsCompletion\": 0.25, \"interactionType\": 1, \"questionType\": 2, \"questionId\": \"2_VariableSwap\", \"learnToolsVersion\": \"0.3.4\", \"failureMessage\": \"\", \"exceptionClass\": \"\", \"trace\": \"\"}}, \"*\")"
      ],
      "text/plain": [
       "<IPython.core.display.Javascript object>"
      ]
     },
     "metadata": {},
     "output_type": "display_data"
    },
    {
     "data": {
      "text/markdown": [
       "<span style=\"color:#33cc33\">Correct:</span> \n",
       "\n",
       "The most straightforward solution is to use a third variable to temporarily store one of the old values. e.g.:\n",
       "\n",
       "    tmp = a\n",
       "    a = b\n",
       "    b = tmp\n",
       "\n",
       "If you've read lots of Python code, you might have seen the following trick to swap two variables in one line:\n",
       "\n",
       "    a, b = b, a\n",
       "\n",
       "We'll demystify this bit of Python magic later when we talk about *tuples*."
      ],
      "text/plain": [
       "Correct: \n",
       "\n",
       "The most straightforward solution is to use a third variable to temporarily store one of the old values. e.g.:\n",
       "\n",
       "    tmp = a\n",
       "    a = b\n",
       "    b = tmp\n",
       "\n",
       "If you've read lots of Python code, you might have seen the following trick to swap two variables in one line:\n",
       "\n",
       "    a, b = b, a\n",
       "\n",
       "We'll demystify this bit of Python magic later when we talk about *tuples*."
      ]
     },
     "metadata": {},
     "output_type": "display_data"
    }
   ],
   "source": [
    "########### Setup code - don't touch this part ######################\n",
    "# If you're curious, these are examples of lists. We'll talk about \n",
    "# them in depth a few lessons from now. For now, just know that they're\n",
    "# yet another type of Python object, like int or float.\n",
    "a = [1, 2, 3]\n",
    "b = [3, 2, 1]\n",
    "q2.store_original_ids()\n",
    "######################################################################\n",
    "\n",
    "# Your code goes here. Swap the values to which a and b refer.\n",
    "# If you get stuck, you can always uncomment one or both of the lines in\n",
    "# the next cell for a hint, or to peek at the solution.\n",
    "a,b = b,a\n",
    "######################################################################\n",
    "\n",
    "# Check your answer\n",
    "q2.check()"
   ]
  },
  {
   "cell_type": "code",
   "execution_count": 8,
   "id": "55f3bfd3",
   "metadata": {
    "execution": {
     "iopub.execute_input": "2022-04-21T03:57:45.837860Z",
     "iopub.status.busy": "2022-04-21T03:57:45.837213Z",
     "iopub.status.idle": "2022-04-21T03:57:45.841106Z",
     "shell.execute_reply": "2022-04-21T03:57:45.840344Z"
    },
    "papermill": {
     "duration": 0.036585,
     "end_time": "2022-04-21T03:57:45.842917",
     "exception": false,
     "start_time": "2022-04-21T03:57:45.806332",
     "status": "completed"
    },
    "tags": []
   },
   "outputs": [],
   "source": [
    "#q2.hint()"
   ]
  },
  {
   "cell_type": "code",
   "execution_count": 9,
   "id": "c45db3e2",
   "metadata": {
    "execution": {
     "iopub.execute_input": "2022-04-21T03:57:45.902388Z",
     "iopub.status.busy": "2022-04-21T03:57:45.901871Z",
     "iopub.status.idle": "2022-04-21T03:57:45.904875Z",
     "shell.execute_reply": "2022-04-21T03:57:45.904333Z"
    },
    "papermill": {
     "duration": 0.034946,
     "end_time": "2022-04-21T03:57:45.906654",
     "exception": false,
     "start_time": "2022-04-21T03:57:45.871708",
     "status": "completed"
    },
    "tags": []
   },
   "outputs": [],
   "source": [
    "#q2.solution()"
   ]
  },
  {
   "cell_type": "markdown",
   "id": "db7cfa1c",
   "metadata": {
    "papermill": {
     "duration": 0.029045,
     "end_time": "2022-04-21T03:57:45.965215",
     "exception": false,
     "start_time": "2022-04-21T03:57:45.936170",
     "status": "completed"
    },
    "tags": []
   },
   "source": [
    "<hr/>\n",
    "\n",
    "# 3a.\n",
    "\n",
    "Add parentheses to the following expression so that it evaluates to 1."
   ]
  },
  {
   "cell_type": "code",
   "execution_count": 10,
   "id": "1423c52d",
   "metadata": {
    "execution": {
     "iopub.execute_input": "2022-04-21T03:57:46.026668Z",
     "iopub.status.busy": "2022-04-21T03:57:46.026020Z",
     "iopub.status.idle": "2022-04-21T03:57:46.031524Z",
     "shell.execute_reply": "2022-04-21T03:57:46.030674Z"
    },
    "papermill": {
     "duration": 0.03822,
     "end_time": "2022-04-21T03:57:46.033408",
     "exception": false,
     "start_time": "2022-04-21T03:57:45.995188",
     "status": "completed"
    },
    "tags": []
   },
   "outputs": [
    {
     "data": {
      "text/plain": [
       "1"
      ]
     },
     "execution_count": 10,
     "metadata": {},
     "output_type": "execute_result"
    }
   ],
   "source": [
    "(5 - 3) // 2"
   ]
  },
  {
   "cell_type": "code",
   "execution_count": 11,
   "id": "359842c5",
   "metadata": {
    "execution": {
     "iopub.execute_input": "2022-04-21T03:57:46.094136Z",
     "iopub.status.busy": "2022-04-21T03:57:46.093637Z",
     "iopub.status.idle": "2022-04-21T03:57:46.096601Z",
     "shell.execute_reply": "2022-04-21T03:57:46.096053Z"
    },
    "papermill": {
     "duration": 0.035484,
     "end_time": "2022-04-21T03:57:46.098598",
     "exception": false,
     "start_time": "2022-04-21T03:57:46.063114",
     "status": "completed"
    },
    "tags": []
   },
   "outputs": [],
   "source": [
    "#q3.a.hint()"
   ]
  },
  {
   "cell_type": "code",
   "execution_count": 12,
   "id": "d2d37e64",
   "metadata": {
    "execution": {
     "iopub.execute_input": "2022-04-21T03:57:46.161321Z",
     "iopub.status.busy": "2022-04-21T03:57:46.160800Z",
     "iopub.status.idle": "2022-04-21T03:57:46.166991Z",
     "shell.execute_reply": "2022-04-21T03:57:46.166302Z"
    },
    "papermill": {
     "duration": 0.039154,
     "end_time": "2022-04-21T03:57:46.168878",
     "exception": false,
     "start_time": "2022-04-21T03:57:46.129724",
     "status": "completed"
    },
    "tags": []
   },
   "outputs": [
    {
     "data": {
      "application/javascript": [
       "parent.postMessage({\"jupyterEvent\": \"custom.exercise_interaction\", \"data\": {\"interactionType\": 3, \"questionType\": 4, \"questionId\": \"3.1_ArithmeticParensEasy\", \"learnToolsVersion\": \"0.3.4\", \"valueTowardsCompletion\": 0.0, \"failureMessage\": \"\", \"exceptionClass\": \"\", \"trace\": \"\", \"outcomeType\": 4}}, \"*\")"
      ],
      "text/plain": [
       "<IPython.core.display.Javascript object>"
      ]
     },
     "metadata": {},
     "output_type": "display_data"
    },
    {
     "data": {
      "text/markdown": [
       "<span style=\"color:#33cc99\">Solution:</span> \n",
       "```python\n",
       "(5 - 3) // 2\n",
       "```"
      ],
      "text/plain": [
       "Solution: \n",
       "```python\n",
       "(5 - 3) // 2\n",
       "```"
      ]
     },
     "metadata": {},
     "output_type": "display_data"
    }
   ],
   "source": [
    "# Check your answer (Run this code cell to receive credit!)\n",
    "q3.a.solution()"
   ]
  },
  {
   "cell_type": "markdown",
   "id": "aa0d3e1e",
   "metadata": {
    "papermill": {
     "duration": 0.030612,
     "end_time": "2022-04-21T03:57:46.231545",
     "exception": false,
     "start_time": "2022-04-21T03:57:46.200933",
     "status": "completed"
    },
    "tags": []
   },
   "source": [
    "# 3b.  <span title=\"A bit spicy\" style=\"color: darkgreen \">🌶️</span>\n",
    "\n",
    "<small>Questions, like this one, marked a spicy pepper are a bit harder.</small>\n",
    "\n",
    "Add parentheses to the following expression so that it evaluates to 0."
   ]
  },
  {
   "cell_type": "code",
   "execution_count": 13,
   "id": "61ec1ee6",
   "metadata": {
    "execution": {
     "iopub.execute_input": "2022-04-21T03:57:46.295479Z",
     "iopub.status.busy": "2022-04-21T03:57:46.294967Z",
     "iopub.status.idle": "2022-04-21T03:57:46.299621Z",
     "shell.execute_reply": "2022-04-21T03:57:46.299063Z"
    },
    "papermill": {
     "duration": 0.038345,
     "end_time": "2022-04-21T03:57:46.301336",
     "exception": false,
     "start_time": "2022-04-21T03:57:46.262991",
     "status": "completed"
    },
    "tags": []
   },
   "outputs": [
    {
     "data": {
      "text/plain": [
       "0"
      ]
     },
     "execution_count": 13,
     "metadata": {},
     "output_type": "execute_result"
    }
   ],
   "source": [
    "8 - 3 * 2 - (1 + 1)"
   ]
  },
  {
   "cell_type": "code",
   "execution_count": 14,
   "id": "33b9c0fc",
   "metadata": {
    "execution": {
     "iopub.execute_input": "2022-04-21T03:57:46.365834Z",
     "iopub.status.busy": "2022-04-21T03:57:46.365352Z",
     "iopub.status.idle": "2022-04-21T03:57:46.368316Z",
     "shell.execute_reply": "2022-04-21T03:57:46.367762Z"
    },
    "papermill": {
     "duration": 0.037229,
     "end_time": "2022-04-21T03:57:46.370180",
     "exception": false,
     "start_time": "2022-04-21T03:57:46.332951",
     "status": "completed"
    },
    "tags": []
   },
   "outputs": [],
   "source": [
    "#q3.b.hint()"
   ]
  },
  {
   "cell_type": "code",
   "execution_count": 15,
   "id": "535df401",
   "metadata": {
    "execution": {
     "iopub.execute_input": "2022-04-21T03:57:46.434787Z",
     "iopub.status.busy": "2022-04-21T03:57:46.434253Z",
     "iopub.status.idle": "2022-04-21T03:57:46.440509Z",
     "shell.execute_reply": "2022-04-21T03:57:46.439931Z"
    },
    "papermill": {
     "duration": 0.040582,
     "end_time": "2022-04-21T03:57:46.442241",
     "exception": false,
     "start_time": "2022-04-21T03:57:46.401659",
     "status": "completed"
    },
    "tags": []
   },
   "outputs": [
    {
     "data": {
      "application/javascript": [
       "parent.postMessage({\"jupyterEvent\": \"custom.exercise_interaction\", \"data\": {\"interactionType\": 3, \"questionType\": 4, \"questionId\": \"3.2_ArithmeticParensHard\", \"learnToolsVersion\": \"0.3.4\", \"valueTowardsCompletion\": 0.0, \"failureMessage\": \"\", \"exceptionClass\": \"\", \"trace\": \"\", \"outcomeType\": 4}}, \"*\")"
      ],
      "text/plain": [
       "<IPython.core.display.Javascript object>"
      ]
     },
     "metadata": {},
     "output_type": "display_data"
    },
    {
     "data": {
      "text/markdown": [
       "<span style=\"color:#33cc99\">Solution:</span> `(8 - 3) * (2 - (1 + 1))` is one solution. There may be others."
      ],
      "text/plain": [
       "Solution: `(8 - 3) * (2 - (1 + 1))` is one solution. There may be others."
      ]
     },
     "metadata": {},
     "output_type": "display_data"
    }
   ],
   "source": [
    "# Check your answer (Run this code cell to receive credit!)\n",
    "q3.b.solution()"
   ]
  },
  {
   "cell_type": "markdown",
   "id": "95deb6a4",
   "metadata": {
    "papermill": {
     "duration": 0.033595,
     "end_time": "2022-04-21T03:57:46.508613",
     "exception": false,
     "start_time": "2022-04-21T03:57:46.475018",
     "status": "completed"
    },
    "tags": []
   },
   "source": [
    "<hr/>\n",
    "\n",
    "# 4. \n",
    "Alice, Bob and Carol have agreed to pool their Halloween candy and split it evenly among themselves.\n",
    "For the sake of their friendship, any candies left over will be smashed. For example, if they collectively\n",
    "bring home 91 candies, they'll take 30 each and smash 1.\n",
    "\n",
    "Write an arithmetic expression below to calculate how many candies they must smash for a given haul."
   ]
  },
  {
   "cell_type": "code",
   "execution_count": 16,
   "id": "ae682e46",
   "metadata": {
    "execution": {
     "iopub.execute_input": "2022-04-21T03:57:46.575851Z",
     "iopub.status.busy": "2022-04-21T03:57:46.575327Z",
     "iopub.status.idle": "2022-04-21T03:57:46.582224Z",
     "shell.execute_reply": "2022-04-21T03:57:46.581713Z"
    },
    "papermill": {
     "duration": 0.042768,
     "end_time": "2022-04-21T03:57:46.584005",
     "exception": false,
     "start_time": "2022-04-21T03:57:46.541237",
     "status": "completed"
    },
    "tags": []
   },
   "outputs": [
    {
     "data": {
      "application/javascript": [
       "parent.postMessage({\"jupyterEvent\": \"custom.exercise_interaction\", \"data\": {\"outcomeType\": 1, \"valueTowardsCompletion\": 0.25, \"interactionType\": 1, \"questionType\": 1, \"questionId\": \"4_CandySplitting\", \"learnToolsVersion\": \"0.3.4\", \"failureMessage\": \"\", \"exceptionClass\": \"\", \"trace\": \"\"}}, \"*\")"
      ],
      "text/plain": [
       "<IPython.core.display.Javascript object>"
      ]
     },
     "metadata": {},
     "output_type": "display_data"
    },
    {
     "data": {
      "text/markdown": [
       "<span style=\"color:#33cc33\">Correct</span>"
      ],
      "text/plain": [
       "Correct"
      ]
     },
     "metadata": {},
     "output_type": "display_data"
    }
   ],
   "source": [
    "# Variables representing the number of candies collected by alice, bob, and carol\n",
    "alice_candies = 121\n",
    "bob_candies = 77\n",
    "carol_candies = 109\n",
    "\n",
    "# Your code goes here! Replace the right-hand side of this assignment with an expression\n",
    "# involving alice_candies, bob_candies, and carol_candies\n",
    "to_smash = (alice_candies + bob_candies + carol_candies)%3\n",
    "\n",
    "# Check your answer\n",
    "q4.check()"
   ]
  },
  {
   "cell_type": "code",
   "execution_count": 17,
   "id": "a9b464d6",
   "metadata": {
    "execution": {
     "iopub.execute_input": "2022-04-21T03:57:46.656016Z",
     "iopub.status.busy": "2022-04-21T03:57:46.655515Z",
     "iopub.status.idle": "2022-04-21T03:57:46.658558Z",
     "shell.execute_reply": "2022-04-21T03:57:46.657922Z"
    },
    "papermill": {
     "duration": 0.041262,
     "end_time": "2022-04-21T03:57:46.660247",
     "exception": false,
     "start_time": "2022-04-21T03:57:46.618985",
     "status": "completed"
    },
    "tags": []
   },
   "outputs": [],
   "source": [
    "#q4.hint()\n",
    "#q4.solution()"
   ]
  },
  {
   "cell_type": "markdown",
   "id": "6bf9d859",
   "metadata": {
    "papermill": {
     "duration": 0.035276,
     "end_time": "2022-04-21T03:57:46.731120",
     "exception": false,
     "start_time": "2022-04-21T03:57:46.695844",
     "status": "completed"
    },
    "tags": []
   },
   "source": [
    "# Keep Going\n",
    "\n",
    "Next up, you'll **[learn to write new functions and understand functions others write](https://www.kaggle.com/colinmorris/functions-and-getting-help)**. This will make you at least 10 times more productive as a Python programmer. "
   ]
  },
  {
   "cell_type": "markdown",
   "id": "eda7a2f2",
   "metadata": {
    "papermill": {
     "duration": 0.03442,
     "end_time": "2022-04-21T03:57:46.799897",
     "exception": false,
     "start_time": "2022-04-21T03:57:46.765477",
     "status": "completed"
    },
    "tags": []
   },
   "source": [
    "---\n",
    "\n",
    "\n",
    "\n",
    "\n",
    "*Have questions or comments? Visit the [course discussion forum](https://www.kaggle.com/learn/python/discussion) to chat with other learners.*"
   ]
  }
 ],
 "metadata": {
  "kernelspec": {
   "display_name": "Python 3",
   "language": "python",
   "name": "python3"
  },
  "language_info": {
   "codemirror_mode": {
    "name": "ipython",
    "version": 3
   },
   "file_extension": ".py",
   "mimetype": "text/x-python",
   "name": "python",
   "nbconvert_exporter": "python",
   "pygments_lexer": "ipython3",
   "version": "3.7.12"
  },
  "papermill": {
   "default_parameters": {},
   "duration": 12.21426,
   "end_time": "2022-04-21T03:57:47.455445",
   "environment_variables": {},
   "exception": null,
   "input_path": "__notebook__.ipynb",
   "output_path": "__notebook__.ipynb",
   "parameters": {},
   "start_time": "2022-04-21T03:57:35.241185",
   "version": "2.3.4"
  }
 },
 "nbformat": 4,
 "nbformat_minor": 5
}
