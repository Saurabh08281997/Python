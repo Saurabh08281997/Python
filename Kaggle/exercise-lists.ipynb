{
 "cells": [
  {
   "cell_type": "markdown",
   "id": "9c8b20b9",
   "metadata": {
    "papermill": {
     "duration": 0.014221,
     "end_time": "2022-05-04T13:53:25.747190",
     "exception": false,
     "start_time": "2022-05-04T13:53:25.732969",
     "status": "completed"
    },
    "tags": []
   },
   "source": [
    "**This notebook is an exercise in the [Python](https://www.kaggle.com/learn/python) course.  You can reference the tutorial at [this link](https://www.kaggle.com/colinmorris/lists).**\n",
    "\n",
    "---\n"
   ]
  },
  {
   "cell_type": "markdown",
   "id": "26690a19",
   "metadata": {
    "papermill": {
     "duration": 0.012585,
     "end_time": "2022-05-04T13:53:25.773304",
     "exception": false,
     "start_time": "2022-05-04T13:53:25.760719",
     "status": "completed"
    },
    "tags": []
   },
   "source": [
    "Things get more interesting with lists. You'll apply your new knowledge to solve the questions below. Remember to run the following cell first."
   ]
  },
  {
   "cell_type": "code",
   "execution_count": 1,
   "id": "993a023a",
   "metadata": {
    "execution": {
     "iopub.execute_input": "2022-05-04T13:53:25.800917Z",
     "iopub.status.busy": "2022-05-04T13:53:25.800440Z",
     "iopub.status.idle": "2022-05-04T13:53:25.845611Z",
     "shell.execute_reply": "2022-05-04T13:53:25.844546Z"
    },
    "papermill": {
     "duration": 0.061863,
     "end_time": "2022-05-04T13:53:25.847966",
     "exception": false,
     "start_time": "2022-05-04T13:53:25.786103",
     "status": "completed"
    },
    "tags": []
   },
   "outputs": [
    {
     "name": "stdout",
     "output_type": "stream",
     "text": [
      "Setup complete.\n"
     ]
    }
   ],
   "source": [
    "from learntools.core import binder; binder.bind(globals())\n",
    "from learntools.python.ex4 import *\n",
    "print('Setup complete.')"
   ]
  },
  {
   "cell_type": "markdown",
   "id": "3ae931cf",
   "metadata": {
    "papermill": {
     "duration": 0.012762,
     "end_time": "2022-05-04T13:53:25.874283",
     "exception": false,
     "start_time": "2022-05-04T13:53:25.861521",
     "status": "completed"
    },
    "tags": []
   },
   "source": [
    "# 1.\n",
    "\n",
    "Complete the function below according to its docstring."
   ]
  },
  {
   "cell_type": "code",
   "execution_count": 2,
   "id": "7d76eec8",
   "metadata": {
    "execution": {
     "iopub.execute_input": "2022-05-04T13:53:25.902002Z",
     "iopub.status.busy": "2022-05-04T13:53:25.901430Z",
     "iopub.status.idle": "2022-05-04T13:53:25.910913Z",
     "shell.execute_reply": "2022-05-04T13:53:25.909946Z"
    },
    "papermill": {
     "duration": 0.025581,
     "end_time": "2022-05-04T13:53:25.912805",
     "exception": false,
     "start_time": "2022-05-04T13:53:25.887224",
     "status": "completed"
    },
    "tags": []
   },
   "outputs": [
    {
     "data": {
      "application/javascript": [
       "parent.postMessage({\"jupyterEvent\": \"custom.exercise_interaction\", \"data\": {\"outcomeType\": 1, \"valueTowardsCompletion\": 0.2, \"interactionType\": 1, \"questionType\": 2, \"questionId\": \"1_SelectSecondItem\", \"learnToolsVersion\": \"0.3.4\", \"failureMessage\": \"\", \"exceptionClass\": \"\", \"trace\": \"\"}}, \"*\")"
      ],
      "text/plain": [
       "<IPython.core.display.Javascript object>"
      ]
     },
     "metadata": {},
     "output_type": "display_data"
    },
    {
     "data": {
      "text/markdown": [
       "<span style=\"color:#33cc33\">Correct</span>"
      ],
      "text/plain": [
       "Correct"
      ]
     },
     "metadata": {},
     "output_type": "display_data"
    }
   ],
   "source": [
    "def select_second(L):\n",
    "    \"\"\"Return the second element of the given list. If the list has no second\n",
    "    element, return None.\n",
    "    \"\"\"\n",
    "    if len(L) >= 2:\n",
    "        return L[1]\n",
    "    return None\n",
    "\n",
    "# Check your answer\n",
    "q1.check()"
   ]
  },
  {
   "cell_type": "code",
   "execution_count": 3,
   "id": "fff5ebbb",
   "metadata": {
    "execution": {
     "iopub.execute_input": "2022-05-04T13:53:25.942653Z",
     "iopub.status.busy": "2022-05-04T13:53:25.942348Z",
     "iopub.status.idle": "2022-05-04T13:53:25.946297Z",
     "shell.execute_reply": "2022-05-04T13:53:25.945171Z"
    },
    "papermill": {
     "duration": 0.021397,
     "end_time": "2022-05-04T13:53:25.948234",
     "exception": false,
     "start_time": "2022-05-04T13:53:25.926837",
     "status": "completed"
    },
    "tags": []
   },
   "outputs": [],
   "source": [
    "#q1.hint()\n",
    "#q1.solution()"
   ]
  },
  {
   "cell_type": "markdown",
   "id": "41e89beb",
   "metadata": {
    "papermill": {
     "duration": 0.013982,
     "end_time": "2022-05-04T13:53:25.976377",
     "exception": false,
     "start_time": "2022-05-04T13:53:25.962395",
     "status": "completed"
    },
    "tags": []
   },
   "source": [
    "# 2.\n",
    "\n",
    "You are analyzing sports teams.  Members of each team are stored in a list. The Coach is the first name in the list, the captain is the second name in the list, and other players are listed after that. \n",
    "These lists are stored in another list, which starts with the best team and proceeds through the list to the worst team last.  Complete the function below to select the **captain** of the worst team."
   ]
  },
  {
   "cell_type": "code",
   "execution_count": 4,
   "id": "792544ea",
   "metadata": {
    "execution": {
     "iopub.execute_input": "2022-05-04T13:53:26.007797Z",
     "iopub.status.busy": "2022-05-04T13:53:26.007489Z",
     "iopub.status.idle": "2022-05-04T13:53:26.014928Z",
     "shell.execute_reply": "2022-05-04T13:53:26.014041Z"
    },
    "papermill": {
     "duration": 0.025195,
     "end_time": "2022-05-04T13:53:26.016825",
     "exception": false,
     "start_time": "2022-05-04T13:53:25.991630",
     "status": "completed"
    },
    "tags": []
   },
   "outputs": [
    {
     "data": {
      "application/javascript": [
       "parent.postMessage({\"jupyterEvent\": \"custom.exercise_interaction\", \"data\": {\"outcomeType\": 1, \"valueTowardsCompletion\": 0.2, \"interactionType\": 1, \"questionType\": 2, \"questionId\": \"2_LosingTeamCaptain\", \"learnToolsVersion\": \"0.3.4\", \"failureMessage\": \"\", \"exceptionClass\": \"\", \"trace\": \"\"}}, \"*\")"
      ],
      "text/plain": [
       "<IPython.core.display.Javascript object>"
      ]
     },
     "metadata": {},
     "output_type": "display_data"
    },
    {
     "data": {
      "text/markdown": [
       "<span style=\"color:#33cc33\">Correct</span>"
      ],
      "text/plain": [
       "Correct"
      ]
     },
     "metadata": {},
     "output_type": "display_data"
    }
   ],
   "source": [
    "def losing_team_captain(teams):\n",
    "    \"\"\"Given a list of teams, where each team is a list of names, return the 2nd player (captain)\n",
    "    from the last listed team\n",
    "    \"\"\"\n",
    "    return teams[-1][1]\n",
    "\n",
    "# Check your answer\n",
    "q2.check()"
   ]
  },
  {
   "cell_type": "code",
   "execution_count": 5,
   "id": "50af5942",
   "metadata": {
    "execution": {
     "iopub.execute_input": "2022-05-04T13:53:26.049491Z",
     "iopub.status.busy": "2022-05-04T13:53:26.048977Z",
     "iopub.status.idle": "2022-05-04T13:53:26.051807Z",
     "shell.execute_reply": "2022-05-04T13:53:26.051291Z"
    },
    "papermill": {
     "duration": 0.021915,
     "end_time": "2022-05-04T13:53:26.053614",
     "exception": false,
     "start_time": "2022-05-04T13:53:26.031699",
     "status": "completed"
    },
    "tags": []
   },
   "outputs": [],
   "source": [
    "#q2.hint()\n",
    "#q2.solution()"
   ]
  },
  {
   "cell_type": "markdown",
   "id": "6f797cdd",
   "metadata": {
    "papermill": {
     "duration": 0.014591,
     "end_time": "2022-05-04T13:53:26.083288",
     "exception": false,
     "start_time": "2022-05-04T13:53:26.068697",
     "status": "completed"
    },
    "tags": []
   },
   "source": [
    "# 3.\n",
    "\n",
    "The next iteration of Mario Kart will feature an extra-infuriating new item, the *Purple Shell*. When used, it warps the last place racer into first place and the first place racer into last place. Complete the function below to implement the Purple Shell's effect."
   ]
  },
  {
   "cell_type": "code",
   "execution_count": 6,
   "id": "2daf9a56",
   "metadata": {
    "execution": {
     "iopub.execute_input": "2022-05-04T13:53:26.115889Z",
     "iopub.status.busy": "2022-05-04T13:53:26.115423Z",
     "iopub.status.idle": "2022-05-04T13:53:26.122164Z",
     "shell.execute_reply": "2022-05-04T13:53:26.121410Z"
    },
    "papermill": {
     "duration": 0.024903,
     "end_time": "2022-05-04T13:53:26.123934",
     "exception": false,
     "start_time": "2022-05-04T13:53:26.099031",
     "status": "completed"
    },
    "tags": []
   },
   "outputs": [
    {
     "data": {
      "application/javascript": [
       "parent.postMessage({\"jupyterEvent\": \"custom.exercise_interaction\", \"data\": {\"outcomeType\": 1, \"valueTowardsCompletion\": 0.2, \"interactionType\": 1, \"questionType\": 2, \"questionId\": \"3_PurpleShell\", \"learnToolsVersion\": \"0.3.4\", \"failureMessage\": \"\", \"exceptionClass\": \"\", \"trace\": \"\"}}, \"*\")"
      ],
      "text/plain": [
       "<IPython.core.display.Javascript object>"
      ]
     },
     "metadata": {},
     "output_type": "display_data"
    },
    {
     "data": {
      "text/markdown": [
       "<span style=\"color:#33cc33\">Correct</span>"
      ],
      "text/plain": [
       "Correct"
      ]
     },
     "metadata": {},
     "output_type": "display_data"
    }
   ],
   "source": [
    "def purple_shell(racers):\n",
    "    \"\"\"Given a list of racers, set the first place racer (at the front of the list) to last\n",
    "    place and vice versa.\n",
    "    \n",
    "    >>> r = [\"Mario\", \"Bowser\", \"Luigi\"]\n",
    "    >>> purple_shell(r)\n",
    "    >>> r\n",
    "    [\"Luigi\", \"Bowser\", \"Mario\"]\n",
    "    \"\"\"\n",
    "    racers[0],racers[-1] = racers[-1],racers[0]\n",
    "\n",
    "# Check your answer\n",
    "q3.check()"
   ]
  },
  {
   "cell_type": "code",
   "execution_count": 7,
   "id": "e5faf920",
   "metadata": {
    "execution": {
     "iopub.execute_input": "2022-05-04T13:53:26.157422Z",
     "iopub.status.busy": "2022-05-04T13:53:26.156914Z",
     "iopub.status.idle": "2022-05-04T13:53:26.159893Z",
     "shell.execute_reply": "2022-05-04T13:53:26.159314Z"
    },
    "papermill": {
     "duration": 0.02169,
     "end_time": "2022-05-04T13:53:26.161588",
     "exception": false,
     "start_time": "2022-05-04T13:53:26.139898",
     "status": "completed"
    },
    "tags": []
   },
   "outputs": [],
   "source": [
    "#q3.hint()\n",
    "#q3.solution()"
   ]
  },
  {
   "cell_type": "markdown",
   "id": "0e05476a",
   "metadata": {
    "papermill": {
     "duration": 0.015702,
     "end_time": "2022-05-04T13:53:26.193369",
     "exception": false,
     "start_time": "2022-05-04T13:53:26.177667",
     "status": "completed"
    },
    "tags": []
   },
   "source": [
    "# 4.\n",
    "\n",
    "What are the lengths of the following lists? Fill in the variable `lengths` with your predictions. (Try to make a prediction for each list *without* just calling `len()` on it.)"
   ]
  },
  {
   "cell_type": "code",
   "execution_count": 8,
   "id": "d0e652d4",
   "metadata": {
    "execution": {
     "iopub.execute_input": "2022-05-04T13:53:26.226746Z",
     "iopub.status.busy": "2022-05-04T13:53:26.226422Z",
     "iopub.status.idle": "2022-05-04T13:53:26.234910Z",
     "shell.execute_reply": "2022-05-04T13:53:26.234119Z"
    },
    "papermill": {
     "duration": 0.027417,
     "end_time": "2022-05-04T13:53:26.236633",
     "exception": false,
     "start_time": "2022-05-04T13:53:26.209216",
     "status": "completed"
    },
    "tags": []
   },
   "outputs": [
    {
     "data": {
      "application/javascript": [
       "parent.postMessage({\"jupyterEvent\": \"custom.exercise_interaction\", \"data\": {\"outcomeType\": 1, \"valueTowardsCompletion\": 0.2, \"interactionType\": 1, \"questionType\": 1, \"questionId\": \"4_UnderstandLen\", \"learnToolsVersion\": \"0.3.4\", \"failureMessage\": \"\", \"exceptionClass\": \"\", \"trace\": \"\"}}, \"*\")"
      ],
      "text/plain": [
       "<IPython.core.display.Javascript object>"
      ]
     },
     "metadata": {},
     "output_type": "display_data"
    },
    {
     "data": {
      "text/markdown": [
       "<span style=\"color:#33cc33\">Correct:</span> \n",
       "\n",
       "\n",
       "- a: There are three items in this list. Nothing tricky yet.\n",
       "- b: The list `[2, 3]` counts as a single item. It has one item before it. So we have 2 items in the list\n",
       "- c: The empty list has 0 items\n",
       "- d: The expression is the same as the list `[2, 3]`, which has length 2."
      ],
      "text/plain": [
       "Correct: \n",
       "\n",
       "\n",
       "- a: There are three items in this list. Nothing tricky yet.\n",
       "- b: The list `[2, 3]` counts as a single item. It has one item before it. So we have 2 items in the list\n",
       "- c: The empty list has 0 items\n",
       "- d: The expression is the same as the list `[2, 3]`, which has length 2."
      ]
     },
     "metadata": {},
     "output_type": "display_data"
    }
   ],
   "source": [
    "a = [1, 2, 3]\n",
    "b = [1, [2, 3]]\n",
    "c = []\n",
    "d = [1, 2, 3][1:]\n",
    "\n",
    "# Put your predictions in the list below. Lengths should contain 4 numbers, the\n",
    "# first being the length of a, the second being the length of b and so on.\n",
    "lengths = [3,2,0,2]\n",
    "\n",
    "# Check your answer\n",
    "q4.check()"
   ]
  },
  {
   "cell_type": "code",
   "execution_count": 9,
   "id": "16bab5f5",
   "metadata": {
    "execution": {
     "iopub.execute_input": "2022-05-04T13:53:26.274920Z",
     "iopub.status.busy": "2022-05-04T13:53:26.274168Z",
     "iopub.status.idle": "2022-05-04T13:53:26.277415Z",
     "shell.execute_reply": "2022-05-04T13:53:26.276923Z"
    },
    "papermill": {
     "duration": 0.02337,
     "end_time": "2022-05-04T13:53:26.279147",
     "exception": false,
     "start_time": "2022-05-04T13:53:26.255777",
     "status": "completed"
    },
    "tags": []
   },
   "outputs": [],
   "source": [
    "# line below provides some explanation\n",
    "#q4.solution()"
   ]
  },
  {
   "cell_type": "markdown",
   "id": "c36226a2",
   "metadata": {
    "papermill": {
     "duration": 0.016565,
     "end_time": "2022-05-04T13:53:26.312820",
     "exception": false,
     "start_time": "2022-05-04T13:53:26.296255",
     "status": "completed"
    },
    "tags": []
   },
   "source": [
    "# 5. <span title=\"A bit spicy\" style=\"color: darkgreen \">🌶️</span>\n",
    "\n",
    "We're using lists to record people who attended our party and what order they arrived in. For example, the following list represents a party with 7 guests, in which Adela showed up first and Ford was the last to arrive:\n",
    "\n",
    "    party_attendees = ['Adela', 'Fleda', 'Owen', 'May', 'Mona', 'Gilbert', 'Ford']\n",
    "\n",
    "A guest is considered 'fashionably late' if they arrived after at least half of the party's guests. However, they must not be the very last guest (that's taking it too far). In the above example, Mona and Gilbert are the only guests who were fashionably late.\n",
    "\n",
    "Complete the function below which takes a list of party attendees as well as a person, and tells us whether that person is fashionably late."
   ]
  },
  {
   "cell_type": "code",
   "execution_count": 10,
   "id": "93f27b77",
   "metadata": {
    "execution": {
     "iopub.execute_input": "2022-05-04T13:53:26.349590Z",
     "iopub.status.busy": "2022-05-04T13:53:26.348813Z",
     "iopub.status.idle": "2022-05-04T13:53:26.358481Z",
     "shell.execute_reply": "2022-05-04T13:53:26.357667Z"
    },
    "papermill": {
     "duration": 0.031107,
     "end_time": "2022-05-04T13:53:26.360801",
     "exception": false,
     "start_time": "2022-05-04T13:53:26.329694",
     "status": "completed"
    },
    "tags": []
   },
   "outputs": [
    {
     "data": {
      "application/javascript": [
       "parent.postMessage({\"jupyterEvent\": \"custom.exercise_interaction\", \"data\": {\"outcomeType\": 1, \"valueTowardsCompletion\": 0.2, \"interactionType\": 1, \"questionType\": 2, \"questionId\": \"5_FashionablyLate\", \"learnToolsVersion\": \"0.3.4\", \"failureMessage\": \"\", \"exceptionClass\": \"\", \"trace\": \"\"}}, \"*\")"
      ],
      "text/plain": [
       "<IPython.core.display.Javascript object>"
      ]
     },
     "metadata": {},
     "output_type": "display_data"
    },
    {
     "data": {
      "text/markdown": [
       "<span style=\"color:#33cc33\">Correct</span>"
      ],
      "text/plain": [
       "Correct"
      ]
     },
     "metadata": {},
     "output_type": "display_data"
    }
   ],
   "source": [
    "def fashionably_late(arrivals, name):\n",
    "    \"\"\"Given an ordered list of arrivals to the party and a name, return whether the guest with that\n",
    "    name was fashionably late.\n",
    "    \"\"\"\n",
    "    if name in arrivals[(len(arrivals)+1)//2:-1]:\n",
    "        return True\n",
    "    return False\n",
    "\n",
    "# Check your answer\n",
    "q5.check()"
   ]
  },
  {
   "cell_type": "code",
   "execution_count": 11,
   "id": "f018bfb4",
   "metadata": {
    "execution": {
     "iopub.execute_input": "2022-05-04T13:53:26.404653Z",
     "iopub.status.busy": "2022-05-04T13:53:26.404199Z",
     "iopub.status.idle": "2022-05-04T13:53:26.412417Z",
     "shell.execute_reply": "2022-05-04T13:53:26.411441Z"
    },
    "papermill": {
     "duration": 0.035023,
     "end_time": "2022-05-04T13:53:26.415291",
     "exception": false,
     "start_time": "2022-05-04T13:53:26.380268",
     "status": "completed"
    },
    "tags": []
   },
   "outputs": [
    {
     "data": {
      "application/javascript": [
       "parent.postMessage({\"jupyterEvent\": \"custom.exercise_interaction\", \"data\": {\"interactionType\": 3, \"questionType\": 2, \"questionId\": \"5_FashionablyLate\", \"learnToolsVersion\": \"0.3.4\", \"valueTowardsCompletion\": 0.0, \"failureMessage\": \"\", \"exceptionClass\": \"\", \"trace\": \"\", \"outcomeType\": 4}}, \"*\")"
      ],
      "text/plain": [
       "<IPython.core.display.Javascript object>"
      ]
     },
     "metadata": {},
     "output_type": "display_data"
    },
    {
     "data": {
      "text/markdown": [
       "<span style=\"color:#33cc99\">Solution:</span> \n",
       "```python\n",
       "def fashionably_late(arrivals, name):\n",
       "    order = arrivals.index(name)\n",
       "    return order >= len(arrivals) / 2 and order != len(arrivals) - 1\n",
       "```"
      ],
      "text/plain": [
       "Solution: \n",
       "```python\n",
       "def fashionably_late(arrivals, name):\n",
       "    order = arrivals.index(name)\n",
       "    return order >= len(arrivals) / 2 and order != len(arrivals) - 1\n",
       "```"
      ]
     },
     "metadata": {},
     "output_type": "display_data"
    }
   ],
   "source": [
    "#q5.hint()\n",
    "q5.solution()"
   ]
  },
  {
   "cell_type": "markdown",
   "id": "d9982a16",
   "metadata": {
    "papermill": {
     "duration": 0.025814,
     "end_time": "2022-05-04T13:53:26.463560",
     "exception": false,
     "start_time": "2022-05-04T13:53:26.437746",
     "status": "completed"
    },
    "tags": []
   },
   "source": [
    "# Keep Going\n",
    "\n",
    "That's it for lists and tuples! Now you have the baseline knowledge to **[learn about loops](https://www.kaggle.com/colinmorris/loops-and-list-comprehensions)**, which is where lists and tuples get really interesting. "
   ]
  },
  {
   "cell_type": "markdown",
   "id": "33541df8",
   "metadata": {
    "papermill": {
     "duration": 0.021379,
     "end_time": "2022-05-04T13:53:26.507037",
     "exception": false,
     "start_time": "2022-05-04T13:53:26.485658",
     "status": "completed"
    },
    "tags": []
   },
   "source": [
    "---\n",
    "\n",
    "\n",
    "\n",
    "\n",
    "*Have questions or comments? Visit the [course discussion forum](https://www.kaggle.com/learn/python/discussion) to chat with other learners.*"
   ]
  }
 ],
 "metadata": {
  "kernelspec": {
   "display_name": "Python 3",
   "language": "python",
   "name": "python3"
  },
  "language_info": {
   "codemirror_mode": {
    "name": "ipython",
    "version": 3
   },
   "file_extension": ".py",
   "mimetype": "text/x-python",
   "name": "python",
   "nbconvert_exporter": "python",
   "pygments_lexer": "ipython3",
   "version": "3.7.12"
  },
  "papermill": {
   "default_parameters": {},
   "duration": 10.531143,
   "end_time": "2022-05-04T13:53:27.146980",
   "environment_variables": {},
   "exception": null,
   "input_path": "__notebook__.ipynb",
   "output_path": "__notebook__.ipynb",
   "parameters": {},
   "start_time": "2022-05-04T13:53:16.615837",
   "version": "2.3.4"
  }
 },
 "nbformat": 4,
 "nbformat_minor": 5
}
