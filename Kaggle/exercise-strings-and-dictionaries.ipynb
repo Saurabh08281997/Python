{
 "cells": [
  {
   "cell_type": "markdown",
   "id": "3508bf70",
   "metadata": {
    "papermill": {
     "duration": 0.015779,
     "end_time": "2022-05-06T13:46:18.820948",
     "exception": false,
     "start_time": "2022-05-06T13:46:18.805169",
     "status": "completed"
    },
    "tags": []
   },
   "source": [
    "**This notebook is an exercise in the [Python](https://www.kaggle.com/learn/python) course.  You can reference the tutorial at [this link](https://www.kaggle.com/colinmorris/strings-and-dictionaries).**\n",
    "\n",
    "---\n"
   ]
  },
  {
   "cell_type": "markdown",
   "id": "760c0080",
   "metadata": {
    "papermill": {
     "duration": 0.013223,
     "end_time": "2022-05-06T13:46:18.847714",
     "exception": false,
     "start_time": "2022-05-06T13:46:18.834491",
     "status": "completed"
    },
    "tags": []
   },
   "source": [
    "You are almost done with the course. Nice job!\n",
    "\n",
    "We have a couple more interesting problems for you before you go. \n",
    "\n",
    "As always, run the setup code below before working on the questions."
   ]
  },
  {
   "cell_type": "code",
   "execution_count": 1,
   "id": "ca0d7f6b",
   "metadata": {
    "execution": {
     "iopub.execute_input": "2022-05-06T13:46:18.878281Z",
     "iopub.status.busy": "2022-05-06T13:46:18.877700Z",
     "iopub.status.idle": "2022-05-06T13:46:18.929244Z",
     "shell.execute_reply": "2022-05-06T13:46:18.928541Z"
    },
    "papermill": {
     "duration": 0.069535,
     "end_time": "2022-05-06T13:46:18.931443",
     "exception": false,
     "start_time": "2022-05-06T13:46:18.861908",
     "status": "completed"
    },
    "tags": []
   },
   "outputs": [
    {
     "name": "stdout",
     "output_type": "stream",
     "text": [
      "Setup complete.\n"
     ]
    }
   ],
   "source": [
    "from learntools.core import binder; binder.bind(globals())\n",
    "from learntools.python.ex6 import *\n",
    "print('Setup complete.')"
   ]
  },
  {
   "cell_type": "markdown",
   "id": "b61397d5",
   "metadata": {
    "papermill": {
     "duration": 0.014012,
     "end_time": "2022-05-06T13:46:18.961207",
     "exception": false,
     "start_time": "2022-05-06T13:46:18.947195",
     "status": "completed"
    },
    "tags": []
   },
   "source": [
    "Let's start with a string lightning round to warm up. What are the lengths of the strings below?\n",
    "\n",
    "For each of the five strings below, predict what `len()` would return when passed that string. Use the variable `length` to record your answer, then run the cell to check whether you were right.  \n",
    "\n",
    "# 0a."
   ]
  },
  {
   "cell_type": "code",
   "execution_count": 2,
   "id": "7fe4d72a",
   "metadata": {
    "execution": {
     "iopub.execute_input": "2022-05-06T13:46:18.990891Z",
     "iopub.status.busy": "2022-05-06T13:46:18.990558Z",
     "iopub.status.idle": "2022-05-06T13:46:18.998576Z",
     "shell.execute_reply": "2022-05-06T13:46:18.997987Z"
    },
    "papermill": {
     "duration": 0.025217,
     "end_time": "2022-05-06T13:46:19.000528",
     "exception": false,
     "start_time": "2022-05-06T13:46:18.975311",
     "status": "completed"
    },
    "tags": []
   },
   "outputs": [
    {
     "data": {
      "application/javascript": [
       "parent.postMessage({\"jupyterEvent\": \"custom.exercise_interaction\", \"data\": {\"outcomeType\": 1, \"valueTowardsCompletion\": 0.3333333333333333, \"interactionType\": 1, \"questionType\": 1, \"questionId\": \"0.1_ZA\", \"learnToolsVersion\": \"0.3.4\", \"failureMessage\": \"\", \"exceptionClass\": \"\", \"trace\": \"\"}}, \"*\")"
      ],
      "text/plain": [
       "<IPython.core.display.Javascript object>"
      ]
     },
     "metadata": {},
     "output_type": "display_data"
    },
    {
     "data": {
      "text/markdown": [
       "<span style=\"color:#33cc33\">Correct:</span> \n",
       "\n",
       "The empty string has length zero. Note that the empty string is also the only string that Python considers as False when converting to boolean."
      ],
      "text/plain": [
       "Correct: \n",
       "\n",
       "The empty string has length zero. Note that the empty string is also the only string that Python considers as False when converting to boolean."
      ]
     },
     "metadata": {},
     "output_type": "display_data"
    }
   ],
   "source": [
    "a = \"\"\n",
    "length = 0\n",
    "q0.a.check()"
   ]
  },
  {
   "cell_type": "markdown",
   "id": "71b2d638",
   "metadata": {
    "papermill": {
     "duration": 0.015339,
     "end_time": "2022-05-06T13:46:19.031384",
     "exception": false,
     "start_time": "2022-05-06T13:46:19.016045",
     "status": "completed"
    },
    "tags": []
   },
   "source": [
    "# 0b."
   ]
  },
  {
   "cell_type": "code",
   "execution_count": 3,
   "id": "df2e4cb6",
   "metadata": {
    "execution": {
     "iopub.execute_input": "2022-05-06T13:46:19.064338Z",
     "iopub.status.busy": "2022-05-06T13:46:19.063810Z",
     "iopub.status.idle": "2022-05-06T13:46:19.069659Z",
     "shell.execute_reply": "2022-05-06T13:46:19.069048Z"
    },
    "papermill": {
     "duration": 0.024732,
     "end_time": "2022-05-06T13:46:19.071532",
     "exception": false,
     "start_time": "2022-05-06T13:46:19.046800",
     "status": "completed"
    },
    "tags": []
   },
   "outputs": [
    {
     "data": {
      "application/javascript": [
       "parent.postMessage({\"jupyterEvent\": \"custom.exercise_interaction\", \"data\": {\"outcomeType\": 1, \"valueTowardsCompletion\": 0.3333333333333333, \"interactionType\": 1, \"questionType\": 1, \"questionId\": \"0.2_ZB\", \"learnToolsVersion\": \"0.3.4\", \"failureMessage\": \"\", \"exceptionClass\": \"\", \"trace\": \"\"}}, \"*\")"
      ],
      "text/plain": [
       "<IPython.core.display.Javascript object>"
      ]
     },
     "metadata": {},
     "output_type": "display_data"
    },
    {
     "data": {
      "text/markdown": [
       "<span style=\"color:#33cc33\">Correct:</span> \n",
       "\n",
       "Keep in mind Python includes spaces (and punctuation) when counting string length."
      ],
      "text/plain": [
       "Correct: \n",
       "\n",
       "Keep in mind Python includes spaces (and punctuation) when counting string length."
      ]
     },
     "metadata": {},
     "output_type": "display_data"
    }
   ],
   "source": [
    "b = \"it's ok\"\n",
    "length = 7\n",
    "q0.b.check()"
   ]
  },
  {
   "cell_type": "markdown",
   "id": "1885619a",
   "metadata": {
    "papermill": {
     "duration": 0.016599,
     "end_time": "2022-05-06T13:46:19.105211",
     "exception": false,
     "start_time": "2022-05-06T13:46:19.088612",
     "status": "completed"
    },
    "tags": []
   },
   "source": [
    "# 0c."
   ]
  },
  {
   "cell_type": "code",
   "execution_count": 4,
   "id": "30373a56",
   "metadata": {
    "execution": {
     "iopub.execute_input": "2022-05-06T13:46:19.138919Z",
     "iopub.status.busy": "2022-05-06T13:46:19.138609Z",
     "iopub.status.idle": "2022-05-06T13:46:19.145653Z",
     "shell.execute_reply": "2022-05-06T13:46:19.145048Z"
    },
    "papermill": {
     "duration": 0.026087,
     "end_time": "2022-05-06T13:46:19.147468",
     "exception": false,
     "start_time": "2022-05-06T13:46:19.121381",
     "status": "completed"
    },
    "tags": []
   },
   "outputs": [
    {
     "data": {
      "application/javascript": [
       "parent.postMessage({\"jupyterEvent\": \"custom.exercise_interaction\", \"data\": {\"outcomeType\": 1, \"valueTowardsCompletion\": 0.3333333333333333, \"interactionType\": 1, \"questionType\": 1, \"questionId\": \"0.3_ZC\", \"learnToolsVersion\": \"0.3.4\", \"failureMessage\": \"\", \"exceptionClass\": \"\", \"trace\": \"\"}}, \"*\")"
      ],
      "text/plain": [
       "<IPython.core.display.Javascript object>"
      ]
     },
     "metadata": {},
     "output_type": "display_data"
    },
    {
     "data": {
      "text/markdown": [
       "<span style=\"color:#33cc33\">Correct:</span> \n",
       "\n",
       "Even though we use different syntax to create it, the string `c` is identical to `b`. In particular, note that the backslash is not part of the string, so it doesn't contribute to its length."
      ],
      "text/plain": [
       "Correct: \n",
       "\n",
       "Even though we use different syntax to create it, the string `c` is identical to `b`. In particular, note that the backslash is not part of the string, so it doesn't contribute to its length."
      ]
     },
     "metadata": {},
     "output_type": "display_data"
    }
   ],
   "source": [
    "c = 'it\\'s ok'\n",
    "length = 7\n",
    "q0.c.check()"
   ]
  },
  {
   "cell_type": "markdown",
   "id": "6ad0e2b0",
   "metadata": {
    "papermill": {
     "duration": 0.016804,
     "end_time": "2022-05-06T13:46:19.181701",
     "exception": false,
     "start_time": "2022-05-06T13:46:19.164897",
     "status": "completed"
    },
    "tags": []
   },
   "source": [
    "# 0d."
   ]
  },
  {
   "cell_type": "code",
   "execution_count": 5,
   "id": "55e8aa18",
   "metadata": {
    "execution": {
     "iopub.execute_input": "2022-05-06T13:46:19.220568Z",
     "iopub.status.busy": "2022-05-06T13:46:19.219998Z",
     "iopub.status.idle": "2022-05-06T13:46:19.226548Z",
     "shell.execute_reply": "2022-05-06T13:46:19.225915Z"
    },
    "papermill": {
     "duration": 0.029406,
     "end_time": "2022-05-06T13:46:19.228419",
     "exception": false,
     "start_time": "2022-05-06T13:46:19.199013",
     "status": "completed"
    },
    "tags": []
   },
   "outputs": [
    {
     "data": {
      "application/javascript": [
       "parent.postMessage({\"jupyterEvent\": \"custom.exercise_interaction\", \"data\": {\"outcomeType\": 1, \"valueTowardsCompletion\": 0.3333333333333333, \"interactionType\": 1, \"questionType\": 1, \"questionId\": \"0.4_ZD\", \"learnToolsVersion\": \"0.3.4\", \"failureMessage\": \"\", \"exceptionClass\": \"\", \"trace\": \"\"}}, \"*\")"
      ],
      "text/plain": [
       "<IPython.core.display.Javascript object>"
      ]
     },
     "metadata": {},
     "output_type": "display_data"
    },
    {
     "data": {
      "text/markdown": [
       "<span style=\"color:#33cc33\">Correct:</span> \n",
       "\n",
       "The fact that this string was created using triple-quote syntax doesn't make any difference in terms of its content or length. This string is exactly the same as `'hey'`."
      ],
      "text/plain": [
       "Correct: \n",
       "\n",
       "The fact that this string was created using triple-quote syntax doesn't make any difference in terms of its content or length. This string is exactly the same as `'hey'`."
      ]
     },
     "metadata": {},
     "output_type": "display_data"
    }
   ],
   "source": [
    "d = \"\"\"hey\"\"\"\n",
    "length = 3\n",
    "q0.d.check()"
   ]
  },
  {
   "cell_type": "markdown",
   "id": "9d7ecaac",
   "metadata": {
    "papermill": {
     "duration": 0.018731,
     "end_time": "2022-05-06T13:46:19.266008",
     "exception": false,
     "start_time": "2022-05-06T13:46:19.247277",
     "status": "completed"
    },
    "tags": []
   },
   "source": [
    "# 0e."
   ]
  },
  {
   "cell_type": "code",
   "execution_count": 6,
   "id": "d5e34b3f",
   "metadata": {
    "execution": {
     "iopub.execute_input": "2022-05-06T13:46:19.304991Z",
     "iopub.status.busy": "2022-05-06T13:46:19.304700Z",
     "iopub.status.idle": "2022-05-06T13:46:19.311536Z",
     "shell.execute_reply": "2022-05-06T13:46:19.310766Z"
    },
    "papermill": {
     "duration": 0.029062,
     "end_time": "2022-05-06T13:46:19.313545",
     "exception": false,
     "start_time": "2022-05-06T13:46:19.284483",
     "status": "completed"
    },
    "tags": []
   },
   "outputs": [
    {
     "data": {
      "application/javascript": [
       "parent.postMessage({\"jupyterEvent\": \"custom.exercise_interaction\", \"data\": {\"outcomeType\": 1, \"valueTowardsCompletion\": 0.3333333333333333, \"interactionType\": 1, \"questionType\": 1, \"questionId\": \"0.5_ZE\", \"learnToolsVersion\": \"0.3.4\", \"failureMessage\": \"\", \"exceptionClass\": \"\", \"trace\": \"\"}}, \"*\")"
      ],
      "text/plain": [
       "<IPython.core.display.Javascript object>"
      ]
     },
     "metadata": {},
     "output_type": "display_data"
    },
    {
     "data": {
      "text/markdown": [
       "<span style=\"color:#33cc33\">Correct:</span> \n",
       "\n",
       "The newline character is just a single character! (Even though we represent it to Python using a combination of two characters.)"
      ],
      "text/plain": [
       "Correct: \n",
       "\n",
       "The newline character is just a single character! (Even though we represent it to Python using a combination of two characters.)"
      ]
     },
     "metadata": {},
     "output_type": "display_data"
    }
   ],
   "source": [
    "e = '\\n'\n",
    "length = 1\n",
    "q0.e.check()"
   ]
  },
  {
   "cell_type": "markdown",
   "id": "bde738c4",
   "metadata": {
    "papermill": {
     "duration": 0.019645,
     "end_time": "2022-05-06T13:46:19.352776",
     "exception": false,
     "start_time": "2022-05-06T13:46:19.333131",
     "status": "completed"
    },
    "tags": []
   },
   "source": [
    "# 1.\n",
    "\n",
    "There is a saying that \"Data scientists spend 80% of their time cleaning data, and 20% of their time complaining about cleaning data.\" Let's see if you can write a function to help clean US zip code data. Given a string, it should return whether or not that string represents a valid zip code. For our purposes, a valid zip code is any string consisting of exactly 5 digits.\n",
    "\n",
    "HINT: `str` has a method that will be useful here. Use `help(str)` to review a list of string methods."
   ]
  },
  {
   "cell_type": "code",
   "execution_count": 7,
   "id": "3810d58f",
   "metadata": {
    "execution": {
     "iopub.execute_input": "2022-05-06T13:46:19.393101Z",
     "iopub.status.busy": "2022-05-06T13:46:19.392620Z",
     "iopub.status.idle": "2022-05-06T13:46:19.400417Z",
     "shell.execute_reply": "2022-05-06T13:46:19.399713Z"
    },
    "papermill": {
     "duration": 0.030063,
     "end_time": "2022-05-06T13:46:19.402138",
     "exception": false,
     "start_time": "2022-05-06T13:46:19.372075",
     "status": "completed"
    },
    "tags": []
   },
   "outputs": [
    {
     "data": {
      "application/javascript": [
       "parent.postMessage({\"jupyterEvent\": \"custom.exercise_interaction\", \"data\": {\"outcomeType\": 1, \"valueTowardsCompletion\": 0.3333333333333333, \"interactionType\": 1, \"questionType\": 2, \"questionId\": \"1_ZipValidator\", \"learnToolsVersion\": \"0.3.4\", \"failureMessage\": \"\", \"exceptionClass\": \"\", \"trace\": \"\"}}, \"*\")"
      ],
      "text/plain": [
       "<IPython.core.display.Javascript object>"
      ]
     },
     "metadata": {},
     "output_type": "display_data"
    },
    {
     "data": {
      "text/markdown": [
       "<span style=\"color:#33cc33\">Correct</span>"
      ],
      "text/plain": [
       "Correct"
      ]
     },
     "metadata": {},
     "output_type": "display_data"
    }
   ],
   "source": [
    "def is_valid_zip(zip_code):\n",
    "    \"\"\"Returns whether the input string is a valid (5 digit) zip code\n",
    "    \"\"\"\n",
    "    return len(zip_code) == 5 and zip_code.isdigit()\n",
    "\n",
    "# Check your answer\n",
    "q1.check()"
   ]
  },
  {
   "cell_type": "code",
   "execution_count": 8,
   "id": "aa307a75",
   "metadata": {
    "execution": {
     "iopub.execute_input": "2022-05-06T13:46:19.444992Z",
     "iopub.status.busy": "2022-05-06T13:46:19.444424Z",
     "iopub.status.idle": "2022-05-06T13:46:19.447520Z",
     "shell.execute_reply": "2022-05-06T13:46:19.446897Z"
    },
    "papermill": {
     "duration": 0.027763,
     "end_time": "2022-05-06T13:46:19.450355",
     "exception": false,
     "start_time": "2022-05-06T13:46:19.422592",
     "status": "completed"
    },
    "tags": []
   },
   "outputs": [],
   "source": [
    "#q1.hint()\n",
    "#q1.solution()"
   ]
  },
  {
   "cell_type": "markdown",
   "id": "2407615c",
   "metadata": {
    "papermill": {
     "duration": 0.0208,
     "end_time": "2022-05-06T13:46:19.492710",
     "exception": false,
     "start_time": "2022-05-06T13:46:19.471910",
     "status": "completed"
    },
    "tags": []
   },
   "source": [
    "# 2.\n",
    "\n",
    "A researcher has gathered thousands of news articles. But she wants to focus her attention on articles including a specific word. Complete the function below to help her filter her list of articles.\n",
    "\n",
    "Your function should meet the following criteria:\n",
    "\n",
    "- Do not include documents where the keyword string shows up only as a part of a larger word. For example, if she were looking for the keyword “closed”, you would not include the string “enclosed.” \n",
    "- She does not want you to distinguish upper case from lower case letters. So the phrase “Closed the case.” would be included when the keyword is “closed”\n",
    "- Do not let periods or commas affect what is matched. “It is closed.” would be included when the keyword is “closed”. But you can assume there are no other types of punctuation."
   ]
  },
  {
   "cell_type": "code",
   "execution_count": 9,
   "id": "6e7d7b37",
   "metadata": {
    "execution": {
     "iopub.execute_input": "2022-05-06T13:46:19.535420Z",
     "iopub.status.busy": "2022-05-06T13:46:19.534901Z",
     "iopub.status.idle": "2022-05-06T13:46:19.543094Z",
     "shell.execute_reply": "2022-05-06T13:46:19.542206Z"
    },
    "papermill": {
     "duration": 0.031688,
     "end_time": "2022-05-06T13:46:19.544874",
     "exception": false,
     "start_time": "2022-05-06T13:46:19.513186",
     "status": "completed"
    },
    "tags": []
   },
   "outputs": [
    {
     "data": {
      "application/javascript": [
       "parent.postMessage({\"jupyterEvent\": \"custom.exercise_interaction\", \"data\": {\"outcomeType\": 1, \"valueTowardsCompletion\": 0.3333333333333333, \"interactionType\": 1, \"questionType\": 2, \"questionId\": \"2_WordSearch\", \"learnToolsVersion\": \"0.3.4\", \"failureMessage\": \"\", \"exceptionClass\": \"\", \"trace\": \"\"}}, \"*\")"
      ],
      "text/plain": [
       "<IPython.core.display.Javascript object>"
      ]
     },
     "metadata": {},
     "output_type": "display_data"
    },
    {
     "data": {
      "text/markdown": [
       "<span style=\"color:#33cc33\">Correct</span>"
      ],
      "text/plain": [
       "Correct"
      ]
     },
     "metadata": {},
     "output_type": "display_data"
    }
   ],
   "source": [
    "def word_search(doc_list, keyword):\n",
    "    l = [] \n",
    "    for i in range(len(doc_list)):\n",
    "        word = doc_list[i].split()\n",
    "        modifedWord = [j.rstrip('.,').lower() for j in word]\n",
    "        if keyword.lower() in modifedWord:\n",
    "            l.append(i)\n",
    "    return l\n",
    "\n",
    "# Check your answer\n",
    "q2.check()"
   ]
  },
  {
   "cell_type": "code",
   "execution_count": 10,
   "id": "9bf8ff5f",
   "metadata": {
    "execution": {
     "iopub.execute_input": "2022-05-06T13:46:19.603407Z",
     "iopub.status.busy": "2022-05-06T13:46:19.603100Z",
     "iopub.status.idle": "2022-05-06T13:46:19.609065Z",
     "shell.execute_reply": "2022-05-06T13:46:19.608414Z"
    },
    "papermill": {
     "duration": 0.0443,
     "end_time": "2022-05-06T13:46:19.610659",
     "exception": false,
     "start_time": "2022-05-06T13:46:19.566359",
     "status": "completed"
    },
    "tags": []
   },
   "outputs": [
    {
     "data": {
      "application/javascript": [
       "parent.postMessage({\"jupyterEvent\": \"custom.exercise_interaction\", \"data\": {\"interactionType\": 3, \"questionType\": 2, \"questionId\": \"2_WordSearch\", \"learnToolsVersion\": \"0.3.4\", \"valueTowardsCompletion\": 0.0, \"failureMessage\": \"\", \"exceptionClass\": \"\", \"trace\": \"\", \"outcomeType\": 4}}, \"*\")"
      ],
      "text/plain": [
       "<IPython.core.display.Javascript object>"
      ]
     },
     "metadata": {},
     "output_type": "display_data"
    },
    {
     "data": {
      "text/markdown": [
       "<span style=\"color:#33cc99\">Solution:</span> \n",
       "```python\n",
       "def word_search(doc_list, keyword):\n",
       "    # list to hold the indices of matching documents\n",
       "    indices = [] \n",
       "    # Iterate through the indices (i) and elements (doc) of documents\n",
       "    for i, doc in enumerate(doc_list):\n",
       "        # Split the string doc into a list of words (according to whitespace)\n",
       "        tokens = doc.split()\n",
       "        # Make a transformed list where we 'normalize' each word to facilitate matching.\n",
       "        # Periods and commas are removed from the end of each word, and it's set to all lowercase.\n",
       "        normalized = [token.rstrip('.,').lower() for token in tokens]\n",
       "        # Is there a match? If so, update the list of matching indices.\n",
       "        if keyword.lower() in normalized:\n",
       "            indices.append(i)\n",
       "    return indices\n",
       "```"
      ],
      "text/plain": [
       "Solution: \n",
       "```python\n",
       "def word_search(doc_list, keyword):\n",
       "    # list to hold the indices of matching documents\n",
       "    indices = [] \n",
       "    # Iterate through the indices (i) and elements (doc) of documents\n",
       "    for i, doc in enumerate(doc_list):\n",
       "        # Split the string doc into a list of words (according to whitespace)\n",
       "        tokens = doc.split()\n",
       "        # Make a transformed list where we 'normalize' each word to facilitate matching.\n",
       "        # Periods and commas are removed from the end of each word, and it's set to all lowercase.\n",
       "        normalized = [token.rstrip('.,').lower() for token in tokens]\n",
       "        # Is there a match? If so, update the list of matching indices.\n",
       "        if keyword.lower() in normalized:\n",
       "            indices.append(i)\n",
       "    return indices\n",
       "```"
      ]
     },
     "metadata": {},
     "output_type": "display_data"
    }
   ],
   "source": [
    "#q2.hint()\n",
    "q2.solution()"
   ]
  },
  {
   "cell_type": "markdown",
   "id": "71b51e58",
   "metadata": {
    "papermill": {
     "duration": 0.029753,
     "end_time": "2022-05-06T13:46:19.671671",
     "exception": false,
     "start_time": "2022-05-06T13:46:19.641918",
     "status": "completed"
    },
    "tags": []
   },
   "source": [
    "# 3.\n",
    "\n",
    "Now the researcher wants to supply multiple keywords to search for. Complete the function below to help her.\n",
    "\n",
    "(You're encouraged to use the `word_search` function you just wrote when implementing this function. Reusing code in this way makes your programs more robust and readable - and it saves typing!)"
   ]
  },
  {
   "cell_type": "code",
   "execution_count": 11,
   "id": "1509f981",
   "metadata": {
    "execution": {
     "iopub.execute_input": "2022-05-06T13:46:19.724353Z",
     "iopub.status.busy": "2022-05-06T13:46:19.723800Z",
     "iopub.status.idle": "2022-05-06T13:46:19.732346Z",
     "shell.execute_reply": "2022-05-06T13:46:19.731393Z"
    },
    "papermill": {
     "duration": 0.037138,
     "end_time": "2022-05-06T13:46:19.734560",
     "exception": false,
     "start_time": "2022-05-06T13:46:19.697422",
     "status": "completed"
    },
    "tags": []
   },
   "outputs": [
    {
     "data": {
      "application/javascript": [
       "parent.postMessage({\"jupyterEvent\": \"custom.exercise_interaction\", \"data\": {\"outcomeType\": 1, \"valueTowardsCompletion\": 0.3333333333333333, \"interactionType\": 1, \"questionType\": 2, \"questionId\": \"3_MultiWordSearch\", \"learnToolsVersion\": \"0.3.4\", \"failureMessage\": \"\", \"exceptionClass\": \"\", \"trace\": \"\"}}, \"*\")"
      ],
      "text/plain": [
       "<IPython.core.display.Javascript object>"
      ]
     },
     "metadata": {},
     "output_type": "display_data"
    },
    {
     "data": {
      "text/markdown": [
       "<span style=\"color:#33cc33\">Correct</span>"
      ],
      "text/plain": [
       "Correct"
      ]
     },
     "metadata": {},
     "output_type": "display_data"
    }
   ],
   "source": [
    "def multi_word_search(doc_list, keywords):\n",
    "    \"\"\"\n",
    "    Takes list of documents (each document is a string) and a list of keywords.  \n",
    "    Returns a dictionary where each key is a keyword, and the value is a list of indices\n",
    "    (from doc_list) of the documents containing that keyword\n",
    "\n",
    "    >>> doc_list = [\"The Learn Python Challenge Casino.\", \"They bought a car and a casino\", \"Casinoville\"]\n",
    "    >>> keywords = ['casino', 'they']\n",
    "    >>> multi_word_search(doc_list, keywords)\n",
    "    {'casino': [0, 1], 'they': [1]}\n",
    "    \"\"\"\n",
    "    d = {}\n",
    "    for key in keywords:\n",
    "        d[key] = word_search(doc_list, key)\n",
    "    return d\n",
    "\n",
    "# Check your answer\n",
    "q3.check()"
   ]
  },
  {
   "cell_type": "code",
   "execution_count": 12,
   "id": "c2f4ff52",
   "metadata": {
    "execution": {
     "iopub.execute_input": "2022-05-06T13:46:19.787076Z",
     "iopub.status.busy": "2022-05-06T13:46:19.786735Z",
     "iopub.status.idle": "2022-05-06T13:46:19.794266Z",
     "shell.execute_reply": "2022-05-06T13:46:19.793354Z"
    },
    "papermill": {
     "duration": 0.035893,
     "end_time": "2022-05-06T13:46:19.796295",
     "exception": false,
     "start_time": "2022-05-06T13:46:19.760402",
     "status": "completed"
    },
    "tags": []
   },
   "outputs": [
    {
     "data": {
      "application/javascript": [
       "parent.postMessage({\"jupyterEvent\": \"custom.exercise_interaction\", \"data\": {\"interactionType\": 3, \"questionType\": 2, \"questionId\": \"3_MultiWordSearch\", \"learnToolsVersion\": \"0.3.4\", \"valueTowardsCompletion\": 0.0, \"failureMessage\": \"\", \"exceptionClass\": \"\", \"trace\": \"\", \"outcomeType\": 4}}, \"*\")"
      ],
      "text/plain": [
       "<IPython.core.display.Javascript object>"
      ]
     },
     "metadata": {},
     "output_type": "display_data"
    },
    {
     "data": {
      "text/markdown": [
       "<span style=\"color:#33cc99\">Solution:</span> \n",
       "```python\n",
       "def multi_word_search(documents, keywords):\n",
       "    keyword_to_indices = {}\n",
       "    for keyword in keywords:\n",
       "        keyword_to_indices[keyword] = word_search(documents, keyword)\n",
       "    return keyword_to_indices\n",
       "```"
      ],
      "text/plain": [
       "Solution: \n",
       "```python\n",
       "def multi_word_search(documents, keywords):\n",
       "    keyword_to_indices = {}\n",
       "    for keyword in keywords:\n",
       "        keyword_to_indices[keyword] = word_search(documents, keyword)\n",
       "    return keyword_to_indices\n",
       "```"
      ]
     },
     "metadata": {},
     "output_type": "display_data"
    }
   ],
   "source": [
    "q3.solution()"
   ]
  },
  {
   "cell_type": "markdown",
   "id": "cbafe8c9",
   "metadata": {
    "papermill": {
     "duration": 0.024733,
     "end_time": "2022-05-06T13:46:19.846031",
     "exception": false,
     "start_time": "2022-05-06T13:46:19.821298",
     "status": "completed"
    },
    "tags": []
   },
   "source": [
    "# Keep Going\n",
    "\n",
    "You've learned a lot. But even the best programmers rely heavily on \"libraries\" of code from other programmers. You'll learn about that in **[the last lesson](https://www.kaggle.com/colinmorris/working-with-external-libraries)**.\n"
   ]
  },
  {
   "cell_type": "markdown",
   "id": "97f3e616",
   "metadata": {
    "papermill": {
     "duration": 0.025132,
     "end_time": "2022-05-06T13:46:19.896803",
     "exception": false,
     "start_time": "2022-05-06T13:46:19.871671",
     "status": "completed"
    },
    "tags": []
   },
   "source": [
    "---\n",
    "\n",
    "\n",
    "\n",
    "\n",
    "*Have questions or comments? Visit the [course discussion forum](https://www.kaggle.com/learn/python/discussion) to chat with other learners.*"
   ]
  }
 ],
 "metadata": {
  "kernelspec": {
   "display_name": "Python 3",
   "language": "python",
   "name": "python3"
  },
  "language_info": {
   "codemirror_mode": {
    "name": "ipython",
    "version": 3
   },
   "file_extension": ".py",
   "mimetype": "text/x-python",
   "name": "python",
   "nbconvert_exporter": "python",
   "pygments_lexer": "ipython3",
   "version": "3.7.12"
  },
  "papermill": {
   "default_parameters": {},
   "duration": 10.938273,
   "end_time": "2022-05-06T13:46:20.541513",
   "environment_variables": {},
   "exception": null,
   "input_path": "__notebook__.ipynb",
   "output_path": "__notebook__.ipynb",
   "parameters": {},
   "start_time": "2022-05-06T13:46:09.603240",
   "version": "2.3.4"
  }
 },
 "nbformat": 4,
 "nbformat_minor": 5
}
