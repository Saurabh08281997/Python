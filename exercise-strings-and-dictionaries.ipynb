{
 "cells": [
  {
   "cell_type": "markdown",
   "id": "bfdc5510",
   "metadata": {
    "papermill": {
     "duration": 0.021909,
     "end_time": "2022-05-06T13:43:05.619910",
     "exception": false,
     "start_time": "2022-05-06T13:43:05.598001",
     "status": "completed"
    },
    "tags": []
   },
   "source": [
    "**This notebook is an exercise in the [Python](https://www.kaggle.com/learn/python) course.  You can reference the tutorial at [this link](https://www.kaggle.com/colinmorris/strings-and-dictionaries).**\n",
    "\n",
    "---\n"
   ]
  },
  {
   "cell_type": "markdown",
   "id": "8f0e8e14",
   "metadata": {
    "papermill": {
     "duration": 0.020028,
     "end_time": "2022-05-06T13:43:05.660396",
     "exception": false,
     "start_time": "2022-05-06T13:43:05.640368",
     "status": "completed"
    },
    "tags": []
   },
   "source": [
    "You are almost done with the course. Nice job!\n",
    "\n",
    "We have a couple more interesting problems for you before you go. \n",
    "\n",
    "As always, run the setup code below before working on the questions."
   ]
  },
  {
   "cell_type": "code",
   "execution_count": 1,
   "id": "876c34f1",
   "metadata": {
    "execution": {
     "iopub.execute_input": "2022-05-06T13:43:05.703758Z",
     "iopub.status.busy": "2022-05-06T13:43:05.703064Z",
     "iopub.status.idle": "2022-05-06T13:43:05.768548Z",
     "shell.execute_reply": "2022-05-06T13:43:05.767409Z"
    },
    "papermill": {
     "duration": 0.090611,
     "end_time": "2022-05-06T13:43:05.771520",
     "exception": false,
     "start_time": "2022-05-06T13:43:05.680909",
     "status": "completed"
    },
    "tags": []
   },
   "outputs": [
    {
     "name": "stdout",
     "output_type": "stream",
     "text": [
      "Setup complete.\n"
     ]
    }
   ],
   "source": [
    "from learntools.core import binder; binder.bind(globals())\n",
    "from learntools.python.ex6 import *\n",
    "print('Setup complete.')"
   ]
  },
  {
   "cell_type": "markdown",
   "id": "85ff97ec",
   "metadata": {
    "papermill": {
     "duration": 0.021089,
     "end_time": "2022-05-06T13:43:05.816320",
     "exception": false,
     "start_time": "2022-05-06T13:43:05.795231",
     "status": "completed"
    },
    "tags": []
   },
   "source": [
    "Let's start with a string lightning round to warm up. What are the lengths of the strings below?\n",
    "\n",
    "For each of the five strings below, predict what `len()` would return when passed that string. Use the variable `length` to record your answer, then run the cell to check whether you were right.  \n",
    "\n",
    "# 0a."
   ]
  },
  {
   "cell_type": "code",
   "execution_count": 2,
   "id": "c5f09c42",
   "metadata": {
    "execution": {
     "iopub.execute_input": "2022-05-06T13:43:05.864083Z",
     "iopub.status.busy": "2022-05-06T13:43:05.863232Z",
     "iopub.status.idle": "2022-05-06T13:43:05.875063Z",
     "shell.execute_reply": "2022-05-06T13:43:05.873971Z"
    },
    "papermill": {
     "duration": 0.038824,
     "end_time": "2022-05-06T13:43:05.877685",
     "exception": false,
     "start_time": "2022-05-06T13:43:05.838861",
     "status": "completed"
    },
    "tags": []
   },
   "outputs": [
    {
     "data": {
      "application/javascript": [
       "parent.postMessage({\"jupyterEvent\": \"custom.exercise_interaction\", \"data\": {\"outcomeType\": 1, \"valueTowardsCompletion\": 0.3333333333333333, \"interactionType\": 1, \"questionType\": 1, \"questionId\": \"0.1_ZA\", \"learnToolsVersion\": \"0.3.4\", \"failureMessage\": \"\", \"exceptionClass\": \"\", \"trace\": \"\"}}, \"*\")"
      ],
      "text/plain": [
       "<IPython.core.display.Javascript object>"
      ]
     },
     "metadata": {},
     "output_type": "display_data"
    },
    {
     "data": {
      "text/markdown": [
       "<span style=\"color:#33cc33\">Correct:</span> \n",
       "\n",
       "The empty string has length zero. Note that the empty string is also the only string that Python considers as False when converting to boolean."
      ],
      "text/plain": [
       "Correct: \n",
       "\n",
       "The empty string has length zero. Note that the empty string is also the only string that Python considers as False when converting to boolean."
      ]
     },
     "metadata": {},
     "output_type": "display_data"
    }
   ],
   "source": [
    "a = \"\"\n",
    "length = 0\n",
    "q0.a.check()"
   ]
  },
  {
   "cell_type": "markdown",
   "id": "e34286a3",
   "metadata": {
    "papermill": {
     "duration": 0.023521,
     "end_time": "2022-05-06T13:43:05.924776",
     "exception": false,
     "start_time": "2022-05-06T13:43:05.901255",
     "status": "completed"
    },
    "tags": []
   },
   "source": [
    "# 0b."
   ]
  },
  {
   "cell_type": "code",
   "execution_count": 3,
   "id": "02110eeb",
   "metadata": {
    "execution": {
     "iopub.execute_input": "2022-05-06T13:43:05.972725Z",
     "iopub.status.busy": "2022-05-06T13:43:05.972397Z",
     "iopub.status.idle": "2022-05-06T13:43:05.979256Z",
     "shell.execute_reply": "2022-05-06T13:43:05.978666Z"
    },
    "papermill": {
     "duration": 0.033832,
     "end_time": "2022-05-06T13:43:05.981447",
     "exception": false,
     "start_time": "2022-05-06T13:43:05.947615",
     "status": "completed"
    },
    "tags": []
   },
   "outputs": [
    {
     "data": {
      "application/javascript": [
       "parent.postMessage({\"jupyterEvent\": \"custom.exercise_interaction\", \"data\": {\"outcomeType\": 1, \"valueTowardsCompletion\": 0.3333333333333333, \"interactionType\": 1, \"questionType\": 1, \"questionId\": \"0.2_ZB\", \"learnToolsVersion\": \"0.3.4\", \"failureMessage\": \"\", \"exceptionClass\": \"\", \"trace\": \"\"}}, \"*\")"
      ],
      "text/plain": [
       "<IPython.core.display.Javascript object>"
      ]
     },
     "metadata": {},
     "output_type": "display_data"
    },
    {
     "data": {
      "text/markdown": [
       "<span style=\"color:#33cc33\">Correct:</span> \n",
       "\n",
       "Keep in mind Python includes spaces (and punctuation) when counting string length."
      ],
      "text/plain": [
       "Correct: \n",
       "\n",
       "Keep in mind Python includes spaces (and punctuation) when counting string length."
      ]
     },
     "metadata": {},
     "output_type": "display_data"
    }
   ],
   "source": [
    "b = \"it's ok\"\n",
    "length = 7\n",
    "q0.b.check()"
   ]
  },
  {
   "cell_type": "markdown",
   "id": "ef758229",
   "metadata": {
    "papermill": {
     "duration": 0.02418,
     "end_time": "2022-05-06T13:43:06.031578",
     "exception": false,
     "start_time": "2022-05-06T13:43:06.007398",
     "status": "completed"
    },
    "tags": []
   },
   "source": [
    "# 0c."
   ]
  },
  {
   "cell_type": "code",
   "execution_count": 4,
   "id": "29b12fce",
   "metadata": {
    "execution": {
     "iopub.execute_input": "2022-05-06T13:43:06.082770Z",
     "iopub.status.busy": "2022-05-06T13:43:06.082383Z",
     "iopub.status.idle": "2022-05-06T13:43:06.090229Z",
     "shell.execute_reply": "2022-05-06T13:43:06.089574Z"
    },
    "papermill": {
     "duration": 0.037349,
     "end_time": "2022-05-06T13:43:06.092263",
     "exception": false,
     "start_time": "2022-05-06T13:43:06.054914",
     "status": "completed"
    },
    "tags": []
   },
   "outputs": [
    {
     "data": {
      "application/javascript": [
       "parent.postMessage({\"jupyterEvent\": \"custom.exercise_interaction\", \"data\": {\"outcomeType\": 1, \"valueTowardsCompletion\": 0.3333333333333333, \"interactionType\": 1, \"questionType\": 1, \"questionId\": \"0.3_ZC\", \"learnToolsVersion\": \"0.3.4\", \"failureMessage\": \"\", \"exceptionClass\": \"\", \"trace\": \"\"}}, \"*\")"
      ],
      "text/plain": [
       "<IPython.core.display.Javascript object>"
      ]
     },
     "metadata": {},
     "output_type": "display_data"
    },
    {
     "data": {
      "text/markdown": [
       "<span style=\"color:#33cc33\">Correct:</span> \n",
       "\n",
       "Even though we use different syntax to create it, the string `c` is identical to `b`. In particular, note that the backslash is not part of the string, so it doesn't contribute to its length."
      ],
      "text/plain": [
       "Correct: \n",
       "\n",
       "Even though we use different syntax to create it, the string `c` is identical to `b`. In particular, note that the backslash is not part of the string, so it doesn't contribute to its length."
      ]
     },
     "metadata": {},
     "output_type": "display_data"
    }
   ],
   "source": [
    "c = 'it\\'s ok'\n",
    "length = 7\n",
    "q0.c.check()"
   ]
  },
  {
   "cell_type": "markdown",
   "id": "488303e1",
   "metadata": {
    "papermill": {
     "duration": 0.025145,
     "end_time": "2022-05-06T13:43:06.141943",
     "exception": false,
     "start_time": "2022-05-06T13:43:06.116798",
     "status": "completed"
    },
    "tags": []
   },
   "source": [
    "# 0d."
   ]
  },
  {
   "cell_type": "code",
   "execution_count": 5,
   "id": "24f46cc6",
   "metadata": {
    "execution": {
     "iopub.execute_input": "2022-05-06T13:43:06.192936Z",
     "iopub.status.busy": "2022-05-06T13:43:06.192197Z",
     "iopub.status.idle": "2022-05-06T13:43:06.199884Z",
     "shell.execute_reply": "2022-05-06T13:43:06.198914Z"
    },
    "papermill": {
     "duration": 0.035254,
     "end_time": "2022-05-06T13:43:06.201981",
     "exception": false,
     "start_time": "2022-05-06T13:43:06.166727",
     "status": "completed"
    },
    "tags": []
   },
   "outputs": [
    {
     "data": {
      "application/javascript": [
       "parent.postMessage({\"jupyterEvent\": \"custom.exercise_interaction\", \"data\": {\"outcomeType\": 1, \"valueTowardsCompletion\": 0.3333333333333333, \"interactionType\": 1, \"questionType\": 1, \"questionId\": \"0.4_ZD\", \"learnToolsVersion\": \"0.3.4\", \"failureMessage\": \"\", \"exceptionClass\": \"\", \"trace\": \"\"}}, \"*\")"
      ],
      "text/plain": [
       "<IPython.core.display.Javascript object>"
      ]
     },
     "metadata": {},
     "output_type": "display_data"
    },
    {
     "data": {
      "text/markdown": [
       "<span style=\"color:#33cc33\">Correct:</span> \n",
       "\n",
       "The fact that this string was created using triple-quote syntax doesn't make any difference in terms of its content or length. This string is exactly the same as `'hey'`."
      ],
      "text/plain": [
       "Correct: \n",
       "\n",
       "The fact that this string was created using triple-quote syntax doesn't make any difference in terms of its content or length. This string is exactly the same as `'hey'`."
      ]
     },
     "metadata": {},
     "output_type": "display_data"
    }
   ],
   "source": [
    "d = \"\"\"hey\"\"\"\n",
    "length = 3\n",
    "q0.d.check()"
   ]
  },
  {
   "cell_type": "markdown",
   "id": "bbe34447",
   "metadata": {
    "papermill": {
     "duration": 0.025242,
     "end_time": "2022-05-06T13:43:06.252730",
     "exception": false,
     "start_time": "2022-05-06T13:43:06.227488",
     "status": "completed"
    },
    "tags": []
   },
   "source": [
    "# 0e."
   ]
  },
  {
   "cell_type": "code",
   "execution_count": 6,
   "id": "361c4914",
   "metadata": {
    "execution": {
     "iopub.execute_input": "2022-05-06T13:43:06.305698Z",
     "iopub.status.busy": "2022-05-06T13:43:06.305375Z",
     "iopub.status.idle": "2022-05-06T13:43:06.313333Z",
     "shell.execute_reply": "2022-05-06T13:43:06.312608Z"
    },
    "papermill": {
     "duration": 0.037397,
     "end_time": "2022-05-06T13:43:06.315631",
     "exception": false,
     "start_time": "2022-05-06T13:43:06.278234",
     "status": "completed"
    },
    "tags": []
   },
   "outputs": [
    {
     "data": {
      "application/javascript": [
       "parent.postMessage({\"jupyterEvent\": \"custom.exercise_interaction\", \"data\": {\"outcomeType\": 1, \"valueTowardsCompletion\": 0.3333333333333333, \"interactionType\": 1, \"questionType\": 1, \"questionId\": \"0.5_ZE\", \"learnToolsVersion\": \"0.3.4\", \"failureMessage\": \"\", \"exceptionClass\": \"\", \"trace\": \"\"}}, \"*\")"
      ],
      "text/plain": [
       "<IPython.core.display.Javascript object>"
      ]
     },
     "metadata": {},
     "output_type": "display_data"
    },
    {
     "data": {
      "text/markdown": [
       "<span style=\"color:#33cc33\">Correct:</span> \n",
       "\n",
       "The newline character is just a single character! (Even though we represent it to Python using a combination of two characters.)"
      ],
      "text/plain": [
       "Correct: \n",
       "\n",
       "The newline character is just a single character! (Even though we represent it to Python using a combination of two characters.)"
      ]
     },
     "metadata": {},
     "output_type": "display_data"
    }
   ],
   "source": [
    "e = '\\n'\n",
    "length = 1\n",
    "q0.e.check()"
   ]
  },
  {
   "cell_type": "markdown",
   "id": "adf7b513",
   "metadata": {
    "papermill": {
     "duration": 0.029289,
     "end_time": "2022-05-06T13:43:06.373307",
     "exception": false,
     "start_time": "2022-05-06T13:43:06.344018",
     "status": "completed"
    },
    "tags": []
   },
   "source": [
    "# 1.\n",
    "\n",
    "There is a saying that \"Data scientists spend 80% of their time cleaning data, and 20% of their time complaining about cleaning data.\" Let's see if you can write a function to help clean US zip code data. Given a string, it should return whether or not that string represents a valid zip code. For our purposes, a valid zip code is any string consisting of exactly 5 digits.\n",
    "\n",
    "HINT: `str` has a method that will be useful here. Use `help(str)` to review a list of string methods."
   ]
  },
  {
   "cell_type": "code",
   "execution_count": 7,
   "id": "4ec004ed",
   "metadata": {
    "execution": {
     "iopub.execute_input": "2022-05-06T13:43:06.428811Z",
     "iopub.status.busy": "2022-05-06T13:43:06.428061Z",
     "iopub.status.idle": "2022-05-06T13:43:06.436279Z",
     "shell.execute_reply": "2022-05-06T13:43:06.435704Z"
    },
    "papermill": {
     "duration": 0.038165,
     "end_time": "2022-05-06T13:43:06.438206",
     "exception": false,
     "start_time": "2022-05-06T13:43:06.400041",
     "status": "completed"
    },
    "tags": []
   },
   "outputs": [
    {
     "data": {
      "application/javascript": [
       "parent.postMessage({\"jupyterEvent\": \"custom.exercise_interaction\", \"data\": {\"outcomeType\": 1, \"valueTowardsCompletion\": 0.3333333333333333, \"interactionType\": 1, \"questionType\": 2, \"questionId\": \"1_ZipValidator\", \"learnToolsVersion\": \"0.3.4\", \"failureMessage\": \"\", \"exceptionClass\": \"\", \"trace\": \"\"}}, \"*\")"
      ],
      "text/plain": [
       "<IPython.core.display.Javascript object>"
      ]
     },
     "metadata": {},
     "output_type": "display_data"
    },
    {
     "data": {
      "text/markdown": [
       "<span style=\"color:#33cc33\">Correct</span>"
      ],
      "text/plain": [
       "Correct"
      ]
     },
     "metadata": {},
     "output_type": "display_data"
    }
   ],
   "source": [
    "def is_valid_zip(zip_code):\n",
    "    \"\"\"Returns whether the input string is a valid (5 digit) zip code\n",
    "    \"\"\"\n",
    "    return len(zip_code) == 5 and zip_code.isdigit()\n",
    "\n",
    "# Check your answer\n",
    "q1.check()"
   ]
  },
  {
   "cell_type": "code",
   "execution_count": 8,
   "id": "82ca08c7",
   "metadata": {
    "execution": {
     "iopub.execute_input": "2022-05-06T13:43:06.497758Z",
     "iopub.status.busy": "2022-05-06T13:43:06.496820Z",
     "iopub.status.idle": "2022-05-06T13:43:06.500383Z",
     "shell.execute_reply": "2022-05-06T13:43:06.499724Z"
    },
    "papermill": {
     "duration": 0.03545,
     "end_time": "2022-05-06T13:43:06.502593",
     "exception": false,
     "start_time": "2022-05-06T13:43:06.467143",
     "status": "completed"
    },
    "tags": []
   },
   "outputs": [],
   "source": [
    "#q1.hint()\n",
    "#q1.solution()"
   ]
  },
  {
   "cell_type": "markdown",
   "id": "1204edcc",
   "metadata": {
    "papermill": {
     "duration": 0.02924,
     "end_time": "2022-05-06T13:43:06.560434",
     "exception": false,
     "start_time": "2022-05-06T13:43:06.531194",
     "status": "completed"
    },
    "tags": []
   },
   "source": [
    "# 2.\n",
    "\n",
    "A researcher has gathered thousands of news articles. But she wants to focus her attention on articles including a specific word. Complete the function below to help her filter her list of articles.\n",
    "\n",
    "Your function should meet the following criteria:\n",
    "\n",
    "- Do not include documents where the keyword string shows up only as a part of a larger word. For example, if she were looking for the keyword “closed”, you would not include the string “enclosed.” \n",
    "- She does not want you to distinguish upper case from lower case letters. So the phrase “Closed the case.” would be included when the keyword is “closed”\n",
    "- Do not let periods or commas affect what is matched. “It is closed.” would be included when the keyword is “closed”. But you can assume there are no other types of punctuation."
   ]
  },
  {
   "cell_type": "code",
   "execution_count": 9,
   "id": "46f96e10",
   "metadata": {
    "execution": {
     "iopub.execute_input": "2022-05-06T13:43:06.619679Z",
     "iopub.status.busy": "2022-05-06T13:43:06.618752Z",
     "iopub.status.idle": "2022-05-06T13:43:06.629472Z",
     "shell.execute_reply": "2022-05-06T13:43:06.628642Z"
    },
    "papermill": {
     "duration": 0.042357,
     "end_time": "2022-05-06T13:43:06.631684",
     "exception": false,
     "start_time": "2022-05-06T13:43:06.589327",
     "status": "completed"
    },
    "tags": []
   },
   "outputs": [
    {
     "data": {
      "application/javascript": [
       "parent.postMessage({\"jupyterEvent\": \"custom.exercise_interaction\", \"data\": {\"outcomeType\": 1, \"valueTowardsCompletion\": 0.3333333333333333, \"interactionType\": 1, \"questionType\": 2, \"questionId\": \"1_ZipValidator\", \"learnToolsVersion\": \"0.3.4\", \"failureMessage\": \"\", \"exceptionClass\": \"\", \"trace\": \"\"}}, \"*\")"
      ],
      "text/plain": [
       "<IPython.core.display.Javascript object>"
      ]
     },
     "metadata": {},
     "output_type": "display_data"
    },
    {
     "data": {
      "text/markdown": [
       "<span style=\"color:#33cc33\">Correct</span>"
      ],
      "text/plain": [
       "Correct"
      ]
     },
     "metadata": {},
     "output_type": "display_data"
    }
   ],
   "source": [
    "def word_search(doc_list, keyword):\n",
    "    l = [] \n",
    "    for i in range(len(doc_list)):\n",
    "        word = doc_list[i].split()\n",
    "        modifedWord = [j.rstrip('.,').lower() for j in word]\n",
    "        if keyword.lower() in modifedWord:\n",
    "            l.append(i)\n",
    "    return l\n",
    "\n",
    "# Check your answer\n",
    "q1.check()"
   ]
  },
  {
   "cell_type": "code",
   "execution_count": 10,
   "id": "994285ab",
   "metadata": {
    "execution": {
     "iopub.execute_input": "2022-05-06T13:43:06.692099Z",
     "iopub.status.busy": "2022-05-06T13:43:06.691766Z",
     "iopub.status.idle": "2022-05-06T13:43:06.699087Z",
     "shell.execute_reply": "2022-05-06T13:43:06.698369Z"
    },
    "papermill": {
     "duration": 0.039884,
     "end_time": "2022-05-06T13:43:06.700989",
     "exception": false,
     "start_time": "2022-05-06T13:43:06.661105",
     "status": "completed"
    },
    "tags": []
   },
   "outputs": [
    {
     "data": {
      "application/javascript": [
       "parent.postMessage({\"jupyterEvent\": \"custom.exercise_interaction\", \"data\": {\"interactionType\": 3, \"questionType\": 2, \"questionId\": \"2_WordSearch\", \"learnToolsVersion\": \"0.3.4\", \"valueTowardsCompletion\": 0.0, \"failureMessage\": \"\", \"exceptionClass\": \"\", \"trace\": \"\", \"outcomeType\": 4}}, \"*\")"
      ],
      "text/plain": [
       "<IPython.core.display.Javascript object>"
      ]
     },
     "metadata": {},
     "output_type": "display_data"
    },
    {
     "data": {
      "text/markdown": [
       "<span style=\"color:#33cc99\">Solution:</span> \n",
       "```python\n",
       "def word_search(doc_list, keyword):\n",
       "    # list to hold the indices of matching documents\n",
       "    indices = [] \n",
       "    # Iterate through the indices (i) and elements (doc) of documents\n",
       "    for i, doc in enumerate(doc_list):\n",
       "        # Split the string doc into a list of words (according to whitespace)\n",
       "        tokens = doc.split()\n",
       "        # Make a transformed list where we 'normalize' each word to facilitate matching.\n",
       "        # Periods and commas are removed from the end of each word, and it's set to all lowercase.\n",
       "        normalized = [token.rstrip('.,').lower() for token in tokens]\n",
       "        # Is there a match? If so, update the list of matching indices.\n",
       "        if keyword.lower() in normalized:\n",
       "            indices.append(i)\n",
       "    return indices\n",
       "```"
      ],
      "text/plain": [
       "Solution: \n",
       "```python\n",
       "def word_search(doc_list, keyword):\n",
       "    # list to hold the indices of matching documents\n",
       "    indices = [] \n",
       "    # Iterate through the indices (i) and elements (doc) of documents\n",
       "    for i, doc in enumerate(doc_list):\n",
       "        # Split the string doc into a list of words (according to whitespace)\n",
       "        tokens = doc.split()\n",
       "        # Make a transformed list where we 'normalize' each word to facilitate matching.\n",
       "        # Periods and commas are removed from the end of each word, and it's set to all lowercase.\n",
       "        normalized = [token.rstrip('.,').lower() for token in tokens]\n",
       "        # Is there a match? If so, update the list of matching indices.\n",
       "        if keyword.lower() in normalized:\n",
       "            indices.append(i)\n",
       "    return indices\n",
       "```"
      ]
     },
     "metadata": {},
     "output_type": "display_data"
    }
   ],
   "source": [
    "#q2.hint()\n",
    "q2.solution()"
   ]
  },
  {
   "cell_type": "markdown",
   "id": "10aa4054",
   "metadata": {
    "papermill": {
     "duration": 0.031206,
     "end_time": "2022-05-06T13:43:06.763554",
     "exception": false,
     "start_time": "2022-05-06T13:43:06.732348",
     "status": "completed"
    },
    "tags": []
   },
   "source": [
    "# 3.\n",
    "\n",
    "Now the researcher wants to supply multiple keywords to search for. Complete the function below to help her.\n",
    "\n",
    "(You're encouraged to use the `word_search` function you just wrote when implementing this function. Reusing code in this way makes your programs more robust and readable - and it saves typing!)"
   ]
  },
  {
   "cell_type": "code",
   "execution_count": 11,
   "id": "03223b54",
   "metadata": {
    "execution": {
     "iopub.execute_input": "2022-05-06T13:43:06.829767Z",
     "iopub.status.busy": "2022-05-06T13:43:06.828880Z",
     "iopub.status.idle": "2022-05-06T13:43:06.837747Z",
     "shell.execute_reply": "2022-05-06T13:43:06.836989Z"
    },
    "papermill": {
     "duration": 0.042967,
     "end_time": "2022-05-06T13:43:06.839726",
     "exception": false,
     "start_time": "2022-05-06T13:43:06.796759",
     "status": "completed"
    },
    "tags": []
   },
   "outputs": [
    {
     "data": {
      "application/javascript": [
       "parent.postMessage({\"jupyterEvent\": \"custom.exercise_interaction\", \"data\": {\"outcomeType\": 1, \"valueTowardsCompletion\": 0.3333333333333333, \"interactionType\": 1, \"questionType\": 2, \"questionId\": \"3_MultiWordSearch\", \"learnToolsVersion\": \"0.3.4\", \"failureMessage\": \"\", \"exceptionClass\": \"\", \"trace\": \"\"}}, \"*\")"
      ],
      "text/plain": [
       "<IPython.core.display.Javascript object>"
      ]
     },
     "metadata": {},
     "output_type": "display_data"
    },
    {
     "data": {
      "text/markdown": [
       "<span style=\"color:#33cc33\">Correct</span>"
      ],
      "text/plain": [
       "Correct"
      ]
     },
     "metadata": {},
     "output_type": "display_data"
    }
   ],
   "source": [
    "def multi_word_search(doc_list, keywords):\n",
    "    \"\"\"\n",
    "    Takes list of documents (each document is a string) and a list of keywords.  \n",
    "    Returns a dictionary where each key is a keyword, and the value is a list of indices\n",
    "    (from doc_list) of the documents containing that keyword\n",
    "\n",
    "    >>> doc_list = [\"The Learn Python Challenge Casino.\", \"They bought a car and a casino\", \"Casinoville\"]\n",
    "    >>> keywords = ['casino', 'they']\n",
    "    >>> multi_word_search(doc_list, keywords)\n",
    "    {'casino': [0, 1], 'they': [1]}\n",
    "    \"\"\"\n",
    "    d = {}\n",
    "    for key in keywords:\n",
    "        d[key] = word_search(doc_list, key)\n",
    "    return d\n",
    "\n",
    "# Check your answer\n",
    "q3.check()"
   ]
  },
  {
   "cell_type": "code",
   "execution_count": 12,
   "id": "539d6571",
   "metadata": {
    "execution": {
     "iopub.execute_input": "2022-05-06T13:43:06.908588Z",
     "iopub.status.busy": "2022-05-06T13:43:06.908269Z",
     "iopub.status.idle": "2022-05-06T13:43:06.915156Z",
     "shell.execute_reply": "2022-05-06T13:43:06.914488Z"
    },
    "papermill": {
     "duration": 0.044627,
     "end_time": "2022-05-06T13:43:06.917381",
     "exception": false,
     "start_time": "2022-05-06T13:43:06.872754",
     "status": "completed"
    },
    "tags": []
   },
   "outputs": [
    {
     "data": {
      "application/javascript": [
       "parent.postMessage({\"jupyterEvent\": \"custom.exercise_interaction\", \"data\": {\"interactionType\": 3, \"questionType\": 2, \"questionId\": \"3_MultiWordSearch\", \"learnToolsVersion\": \"0.3.4\", \"valueTowardsCompletion\": 0.0, \"failureMessage\": \"\", \"exceptionClass\": \"\", \"trace\": \"\", \"outcomeType\": 4}}, \"*\")"
      ],
      "text/plain": [
       "<IPython.core.display.Javascript object>"
      ]
     },
     "metadata": {},
     "output_type": "display_data"
    },
    {
     "data": {
      "text/markdown": [
       "<span style=\"color:#33cc99\">Solution:</span> \n",
       "```python\n",
       "def multi_word_search(documents, keywords):\n",
       "    keyword_to_indices = {}\n",
       "    for keyword in keywords:\n",
       "        keyword_to_indices[keyword] = word_search(documents, keyword)\n",
       "    return keyword_to_indices\n",
       "```"
      ],
      "text/plain": [
       "Solution: \n",
       "```python\n",
       "def multi_word_search(documents, keywords):\n",
       "    keyword_to_indices = {}\n",
       "    for keyword in keywords:\n",
       "        keyword_to_indices[keyword] = word_search(documents, keyword)\n",
       "    return keyword_to_indices\n",
       "```"
      ]
     },
     "metadata": {},
     "output_type": "display_data"
    }
   ],
   "source": [
    "q3.solution()"
   ]
  },
  {
   "cell_type": "markdown",
   "id": "ad156def",
   "metadata": {
    "papermill": {
     "duration": 0.03289,
     "end_time": "2022-05-06T13:43:06.984131",
     "exception": false,
     "start_time": "2022-05-06T13:43:06.951241",
     "status": "completed"
    },
    "tags": []
   },
   "source": [
    "# Keep Going\n",
    "\n",
    "You've learned a lot. But even the best programmers rely heavily on \"libraries\" of code from other programmers. You'll learn about that in **[the last lesson](https://www.kaggle.com/colinmorris/working-with-external-libraries)**.\n"
   ]
  },
  {
   "cell_type": "markdown",
   "id": "c29aa8e1",
   "metadata": {
    "papermill": {
     "duration": 0.033073,
     "end_time": "2022-05-06T13:43:07.050292",
     "exception": false,
     "start_time": "2022-05-06T13:43:07.017219",
     "status": "completed"
    },
    "tags": []
   },
   "source": [
    "---\n",
    "\n",
    "\n",
    "\n",
    "\n",
    "*Have questions or comments? Visit the [course discussion forum](https://www.kaggle.com/learn/python/discussion) to chat with other learners.*"
   ]
  }
 ],
 "metadata": {
  "kernelspec": {
   "display_name": "Python 3",
   "language": "python",
   "name": "python3"
  },
  "language_info": {
   "codemirror_mode": {
    "name": "ipython",
    "version": 3
   },
   "file_extension": ".py",
   "mimetype": "text/x-python",
   "name": "python",
   "nbconvert_exporter": "python",
   "pygments_lexer": "ipython3",
   "version": "3.7.12"
  },
  "papermill": {
   "default_parameters": {},
   "duration": 13.872217,
   "end_time": "2022-05-06T13:43:07.804887",
   "environment_variables": {},
   "exception": null,
   "input_path": "__notebook__.ipynb",
   "output_path": "__notebook__.ipynb",
   "parameters": {},
   "start_time": "2022-05-06T13:42:53.932670",
   "version": "2.3.4"
  }
 },
 "nbformat": 4,
 "nbformat_minor": 5
}
